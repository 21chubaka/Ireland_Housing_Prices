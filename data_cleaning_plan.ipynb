{
 "cells": [
  {
   "cell_type": "markdown",
   "id": "7f1e85db",
   "metadata": {},
   "source": [
    "# Initial Data Exploration"
   ]
  },
  {
   "cell_type": "markdown",
   "id": "a2fb835f",
   "metadata": {},
   "source": [
    "## The Residential Property Price Register (RPPR) Dataset"
   ]
  },
  {
   "cell_type": "code",
   "execution_count": 1,
   "id": "eb8beb5f",
   "metadata": {},
   "outputs": [],
   "source": [
    "# Import various libraries & packages:\n",
    "import pandas as pd\n",
    "import numpy as np\n",
    "import matplotlib.pyplot as plt\n",
    "from matplotlib.backends.backend_pdf import PdfPages\n",
    "import seaborn as sns"
   ]
  },
  {
   "cell_type": "code",
   "execution_count": 2,
   "id": "2abb3063",
   "metadata": {},
   "outputs": [],
   "source": [
    "# Read CSV file into a Data Frame:\n",
    "df = pd.read_csv('data/raw/rppr_ireland.csv', keep_default_na=True, delimiter=',', skipinitialspace=True)"
   ]
  },
  {
   "cell_type": "code",
   "execution_count": 3,
   "id": "ce21b17f",
   "metadata": {},
   "outputs": [
    {
     "data": {
      "text/plain": [
       "(10000, 9)"
      ]
     },
     "execution_count": 3,
     "metadata": {},
     "output_type": "execute_result"
    }
   ],
   "source": [
    "# Checking how many rows and columns:\n",
    "df.shape"
   ]
  },
  {
   "cell_type": "code",
   "execution_count": 4,
   "id": "87d4f998",
   "metadata": {},
   "outputs": [
    {
     "data": {
      "text/html": [
       "<div>\n",
       "<style scoped>\n",
       "    .dataframe tbody tr th:only-of-type {\n",
       "        vertical-align: middle;\n",
       "    }\n",
       "\n",
       "    .dataframe tbody tr th {\n",
       "        vertical-align: top;\n",
       "    }\n",
       "\n",
       "    .dataframe thead th {\n",
       "        text-align: right;\n",
       "    }\n",
       "</style>\n",
       "<table border=\"1\" class=\"dataframe\">\n",
       "  <thead>\n",
       "    <tr style=\"text-align: right;\">\n",
       "      <th></th>\n",
       "      <th>Date of Sale (dd/mm/yyyy)</th>\n",
       "      <th>Address</th>\n",
       "      <th>Postal Code</th>\n",
       "      <th>County</th>\n",
       "      <th>Price (€)</th>\n",
       "      <th>Not Full Market Price</th>\n",
       "      <th>VAT Exclusive</th>\n",
       "      <th>Description of Property</th>\n",
       "      <th>Property Size Description</th>\n",
       "    </tr>\n",
       "  </thead>\n",
       "  <tbody>\n",
       "    <tr>\n",
       "      <th>0</th>\n",
       "      <td>12/1/2016</td>\n",
       "      <td>NEAMH COTTAGE CARRIGDANGAN, KILMICHAEL, CORK</td>\n",
       "      <td>NaN</td>\n",
       "      <td>Cork</td>\n",
       "      <td>€30,000.00</td>\n",
       "      <td>No</td>\n",
       "      <td>No</td>\n",
       "      <td>Second-Hand Dwelling house /Apartment</td>\n",
       "      <td>NaN</td>\n",
       "    </tr>\n",
       "    <tr>\n",
       "      <th>1</th>\n",
       "      <td>9/9/2010</td>\n",
       "      <td>No.5 O'Brien Street, Waterford</td>\n",
       "      <td>NaN</td>\n",
       "      <td>Waterford</td>\n",
       "      <td>€7,000.00</td>\n",
       "      <td>No</td>\n",
       "      <td>No</td>\n",
       "      <td>Second-Hand Dwelling house /Apartment</td>\n",
       "      <td>NaN</td>\n",
       "    </tr>\n",
       "    <tr>\n",
       "      <th>2</th>\n",
       "      <td>14/03/2018</td>\n",
       "      <td>CLOGHERANE, LAURAGH, KILLARNEY</td>\n",
       "      <td>NaN</td>\n",
       "      <td>Kerry</td>\n",
       "      <td>€170,000.00</td>\n",
       "      <td>No</td>\n",
       "      <td>No</td>\n",
       "      <td>Second-Hand Dwelling house /Apartment</td>\n",
       "      <td>NaN</td>\n",
       "    </tr>\n",
       "    <tr>\n",
       "      <th>3</th>\n",
       "      <td>30/05/2014</td>\n",
       "      <td>27 The Oaks, Frenchpark</td>\n",
       "      <td>NaN</td>\n",
       "      <td>Roscommon</td>\n",
       "      <td>€30,000.00</td>\n",
       "      <td>No</td>\n",
       "      <td>Yes</td>\n",
       "      <td>New Dwelling house /Apartment</td>\n",
       "      <td>greater than or equal to 38 sq metres and less...</td>\n",
       "    </tr>\n",
       "    <tr>\n",
       "      <th>4</th>\n",
       "      <td>26/11/2010</td>\n",
       "      <td>71 Laurel Grove, Tagoat, Wexford</td>\n",
       "      <td>NaN</td>\n",
       "      <td>Wexford</td>\n",
       "      <td>€95,000.00</td>\n",
       "      <td>No</td>\n",
       "      <td>No</td>\n",
       "      <td>Second-Hand Dwelling house /Apartment</td>\n",
       "      <td>NaN</td>\n",
       "    </tr>\n",
       "  </tbody>\n",
       "</table>\n",
       "</div>"
      ],
      "text/plain": [
       "  Date of Sale (dd/mm/yyyy)                                       Address  \\\n",
       "0                 12/1/2016  NEAMH COTTAGE CARRIGDANGAN, KILMICHAEL, CORK   \n",
       "1                  9/9/2010                No.5 O'Brien Street, Waterford   \n",
       "2                14/03/2018                CLOGHERANE, LAURAGH, KILLARNEY   \n",
       "3                30/05/2014                       27 The Oaks, Frenchpark   \n",
       "4                26/11/2010              71 Laurel Grove, Tagoat, Wexford   \n",
       "\n",
       "  Postal Code     County    Price (€) Not Full Market Price VAT Exclusive  \\\n",
       "0         NaN       Cork   €30,000.00                    No            No   \n",
       "1         NaN  Waterford    €7,000.00                    No            No   \n",
       "2         NaN      Kerry  €170,000.00                    No            No   \n",
       "3         NaN  Roscommon   €30,000.00                    No           Yes   \n",
       "4         NaN    Wexford   €95,000.00                    No            No   \n",
       "\n",
       "                 Description of Property  \\\n",
       "0  Second-Hand Dwelling house /Apartment   \n",
       "1  Second-Hand Dwelling house /Apartment   \n",
       "2  Second-Hand Dwelling house /Apartment   \n",
       "3          New Dwelling house /Apartment   \n",
       "4  Second-Hand Dwelling house /Apartment   \n",
       "\n",
       "                           Property Size Description  \n",
       "0                                                NaN  \n",
       "1                                                NaN  \n",
       "2                                                NaN  \n",
       "3  greater than or equal to 38 sq metres and less...  \n",
       "4                                                NaN  "
      ]
     },
     "execution_count": 4,
     "metadata": {},
     "output_type": "execute_result"
    }
   ],
   "source": [
    "# Print first 5 rows:\n",
    "df.head(5)"
   ]
  },
  {
   "cell_type": "code",
   "execution_count": 5,
   "id": "09ef6eed",
   "metadata": {},
   "outputs": [
    {
     "data": {
      "text/html": [
       "<div>\n",
       "<style scoped>\n",
       "    .dataframe tbody tr th:only-of-type {\n",
       "        vertical-align: middle;\n",
       "    }\n",
       "\n",
       "    .dataframe tbody tr th {\n",
       "        vertical-align: top;\n",
       "    }\n",
       "\n",
       "    .dataframe thead th {\n",
       "        text-align: right;\n",
       "    }\n",
       "</style>\n",
       "<table border=\"1\" class=\"dataframe\">\n",
       "  <thead>\n",
       "    <tr style=\"text-align: right;\">\n",
       "      <th></th>\n",
       "      <th>Date of Sale (dd/mm/yyyy)</th>\n",
       "      <th>Address</th>\n",
       "      <th>Postal Code</th>\n",
       "      <th>County</th>\n",
       "      <th>Price (€)</th>\n",
       "      <th>Not Full Market Price</th>\n",
       "      <th>VAT Exclusive</th>\n",
       "      <th>Description of Property</th>\n",
       "      <th>Property Size Description</th>\n",
       "    </tr>\n",
       "  </thead>\n",
       "  <tbody>\n",
       "    <tr>\n",
       "      <th>9995</th>\n",
       "      <td>17/04/2014</td>\n",
       "      <td>1 THE GARDENS, CLOGHERHEAD, LOUTH</td>\n",
       "      <td>NaN</td>\n",
       "      <td>Louth</td>\n",
       "      <td>€130,000.00</td>\n",
       "      <td>No</td>\n",
       "      <td>No</td>\n",
       "      <td>Second-Hand Dwelling house /Apartment</td>\n",
       "      <td>NaN</td>\n",
       "    </tr>\n",
       "    <tr>\n",
       "      <th>9996</th>\n",
       "      <td>1/8/2019</td>\n",
       "      <td>25 ASSUMPTION RD, ATHLONE, CO WESTMEATH</td>\n",
       "      <td>NaN</td>\n",
       "      <td>Westmeath</td>\n",
       "      <td>€138,000.00</td>\n",
       "      <td>No</td>\n",
       "      <td>No</td>\n",
       "      <td>Second-Hand Dwelling house /Apartment</td>\n",
       "      <td>NaN</td>\n",
       "    </tr>\n",
       "    <tr>\n",
       "      <th>9997</th>\n",
       "      <td>13/12/2021</td>\n",
       "      <td>5 CAIRNCOURT, DUNTAHEEN ROAD, FERMOY</td>\n",
       "      <td>NaN</td>\n",
       "      <td>Cork</td>\n",
       "      <td>€337,000.00</td>\n",
       "      <td>No</td>\n",
       "      <td>No</td>\n",
       "      <td>Second-Hand Dwelling house /Apartment</td>\n",
       "      <td>NaN</td>\n",
       "    </tr>\n",
       "    <tr>\n",
       "      <th>9998</th>\n",
       "      <td>5/10/2015</td>\n",
       "      <td>117 Ard Ban, Muff</td>\n",
       "      <td>NaN</td>\n",
       "      <td>Donegal</td>\n",
       "      <td>€162,995.60</td>\n",
       "      <td>No</td>\n",
       "      <td>Yes</td>\n",
       "      <td>New Dwelling house /Apartment</td>\n",
       "      <td>greater than 125 sq metres</td>\n",
       "    </tr>\n",
       "    <tr>\n",
       "      <th>9999</th>\n",
       "      <td>5/4/2013</td>\n",
       "      <td>76 Hampton Green, Balbriggan</td>\n",
       "      <td>NaN</td>\n",
       "      <td>Dublin</td>\n",
       "      <td>€118,000.00</td>\n",
       "      <td>No</td>\n",
       "      <td>No</td>\n",
       "      <td>Second-Hand Dwelling house /Apartment</td>\n",
       "      <td>NaN</td>\n",
       "    </tr>\n",
       "  </tbody>\n",
       "</table>\n",
       "</div>"
      ],
      "text/plain": [
       "     Date of Sale (dd/mm/yyyy)                                  Address  \\\n",
       "9995                17/04/2014        1 THE GARDENS, CLOGHERHEAD, LOUTH   \n",
       "9996                  1/8/2019  25 ASSUMPTION RD, ATHLONE, CO WESTMEATH   \n",
       "9997                13/12/2021     5 CAIRNCOURT, DUNTAHEEN ROAD, FERMOY   \n",
       "9998                 5/10/2015                        117 Ard Ban, Muff   \n",
       "9999                  5/4/2013             76 Hampton Green, Balbriggan   \n",
       "\n",
       "     Postal Code     County    Price (€) Not Full Market Price VAT Exclusive  \\\n",
       "9995         NaN      Louth  €130,000.00                    No            No   \n",
       "9996         NaN  Westmeath  €138,000.00                    No            No   \n",
       "9997         NaN       Cork  €337,000.00                    No            No   \n",
       "9998         NaN    Donegal  €162,995.60                    No           Yes   \n",
       "9999         NaN     Dublin  €118,000.00                    No            No   \n",
       "\n",
       "                    Description of Property   Property Size Description  \n",
       "9995  Second-Hand Dwelling house /Apartment                         NaN  \n",
       "9996  Second-Hand Dwelling house /Apartment                         NaN  \n",
       "9997  Second-Hand Dwelling house /Apartment                         NaN  \n",
       "9998          New Dwelling house /Apartment  greater than 125 sq metres  \n",
       "9999  Second-Hand Dwelling house /Apartment                         NaN  "
      ]
     },
     "execution_count": 5,
     "metadata": {},
     "output_type": "execute_result"
    }
   ],
   "source": [
    "# Print last 5 rows:\n",
    "df.tail(5)"
   ]
  },
  {
   "cell_type": "code",
   "execution_count": 6,
   "id": "9c8bc5d7",
   "metadata": {},
   "outputs": [
    {
     "data": {
      "text/plain": [
       "Date of Sale (dd/mm/yyyy)    object\n",
       "Address                      object\n",
       "Postal Code                  object\n",
       "County                       object\n",
       "Price (€)                    object\n",
       "Not Full Market Price        object\n",
       "VAT Exclusive                object\n",
       "Description of Property      object\n",
       "Property Size Description    object\n",
       "dtype: object"
      ]
     },
     "execution_count": 6,
     "metadata": {},
     "output_type": "execute_result"
    }
   ],
   "source": [
    "# Check Feature Data Types:\n",
    "df.dtypes"
   ]
  },
  {
   "cell_type": "code",
   "execution_count": 7,
   "id": "f4e3e2db",
   "metadata": {},
   "outputs": [
    {
     "name": "stdout",
     "output_type": "stream",
     "text": [
      "<class 'pandas.core.frame.DataFrame'>\n",
      "RangeIndex: 10000 entries, 0 to 9999\n",
      "Data columns (total 9 columns):\n",
      " #   Column                     Non-Null Count  Dtype \n",
      "---  ------                     --------------  ----- \n",
      " 0   Date of Sale (dd/mm/yyyy)  10000 non-null  object\n",
      " 1   Address                    10000 non-null  object\n",
      " 2   Postal Code                1914 non-null   object\n",
      " 3   County                     10000 non-null  object\n",
      " 4   Price (€)                  10000 non-null  object\n",
      " 5   Not Full Market Price      10000 non-null  object\n",
      " 6   VAT Exclusive              10000 non-null  object\n",
      " 7   Description of Property    10000 non-null  object\n",
      " 8   Property Size Description  1016 non-null   object\n",
      "dtypes: object(9)\n",
      "memory usage: 703.2+ KB\n"
     ]
    }
   ],
   "source": [
    "# Check the Information of the Columns:\n",
    "df.info()"
   ]
  },
  {
   "cell_type": "markdown",
   "id": "e2080d05",
   "metadata": {},
   "source": [
    "Two significant observations from column information are that ‘Postal Code’ and ‘Property Size Description’ has a great deal of null values."
   ]
  },
  {
   "cell_type": "code",
   "execution_count": 8,
   "id": "0b0019f1",
   "metadata": {},
   "outputs": [
    {
     "data": {
      "text/plain": [
       "Index(['Date of Sale (dd/mm/yyyy)', 'Address', 'Postal Code', 'County',\n",
       "       'Price (€)', 'Not Full Market Price', 'VAT Exclusive',\n",
       "       'Description of Property', 'Property Size Description'],\n",
       "      dtype='object')"
      ]
     },
     "execution_count": 8,
     "metadata": {},
     "output_type": "execute_result"
    }
   ],
   "source": [
    "# Check out the Columns Names:\n",
    "df.columns"
   ]
  },
  {
   "cell_type": "markdown",
   "id": "ff94248a",
   "metadata": {},
   "source": [
    "<b>Columns Names:</b><br>\n",
    "After seeing the column names I have some changes I wish to make to aid in future analysis/working with the data.<br>\n",
    "First off, I am going to rid the price column of the euro symbol and update the column name to ‘Price_euro’.<br>\n",
    "Also, I am going to rid the date column of the parathesis’s and update the column name to ‘Date_of_Sale_ddmmyyyy’.<br>\n",
    "Finally, I will replace all spaces in column names with underscores.<br>\n",
    "Again, these changes make it significantly easier to work with the data.<br>"
   ]
  },
  {
   "cell_type": "code",
   "execution_count": 9,
   "id": "8c037bc7",
   "metadata": {},
   "outputs": [],
   "source": [
    "# Replacing the euro symbol from Price Column:\n",
    "df.rename(columns={'Price (€)': 'Price_euro'}, inplace=True)\n",
    "# Rename Date of Sale Column:\n",
    "df.rename(columns={'Date of Sale (dd/mm/yyyy)': 'Date_of_Sale_ddmmyyyy'}, inplace=True)"
   ]
  },
  {
   "cell_type": "code",
   "execution_count": 11,
   "id": "634a7a1b",
   "metadata": {},
   "outputs": [
    {
     "data": {
      "text/plain": [
       "Index(['Date_of_Sale_ddmmyyyy', 'Address', 'Postal_Code', 'County',\n",
       "       'Price_euro', 'Not_Full_Market_Price', 'VAT_Exclusive',\n",
       "       'Description_of_Property', 'Property_Size_Description'],\n",
       "      dtype='object')"
      ]
     },
     "execution_count": 11,
     "metadata": {},
     "output_type": "execute_result"
    }
   ],
   "source": [
    "# Replacing Column spaces for Underscores:\n",
    "df.columns = df.columns.str.replace(' ', '_')\n",
    "df.columns"
   ]
  },
  {
   "cell_type": "markdown",
   "id": "6db476e2",
   "metadata": {},
   "source": [
    "<b>Price Column (Euro & Comma Symbol):</b><br>\n",
    "While inspecting the ‘Price_euro’ column I notice that the euro symbol and comma needs to be excluded before changing data types or any statistical analysis can be made on that column.<br>\n",
    "Below, I rid the price column of the two symbols:\n"
   ]
  },
  {
   "cell_type": "code",
   "execution_count": 12,
   "id": "616b3a70",
   "metadata": {},
   "outputs": [
    {
     "data": {
      "text/html": [
       "<div>\n",
       "<style scoped>\n",
       "    .dataframe tbody tr th:only-of-type {\n",
       "        vertical-align: middle;\n",
       "    }\n",
       "\n",
       "    .dataframe tbody tr th {\n",
       "        vertical-align: top;\n",
       "    }\n",
       "\n",
       "    .dataframe thead th {\n",
       "        text-align: right;\n",
       "    }\n",
       "</style>\n",
       "<table border=\"1\" class=\"dataframe\">\n",
       "  <thead>\n",
       "    <tr style=\"text-align: right;\">\n",
       "      <th></th>\n",
       "      <th>Date_of_Sale_ddmmyyyy</th>\n",
       "      <th>Address</th>\n",
       "      <th>Postal_Code</th>\n",
       "      <th>County</th>\n",
       "      <th>Price_euro</th>\n",
       "      <th>Not_Full_Market_Price</th>\n",
       "      <th>VAT_Exclusive</th>\n",
       "      <th>Description_of_Property</th>\n",
       "      <th>Property_Size_Description</th>\n",
       "    </tr>\n",
       "  </thead>\n",
       "  <tbody>\n",
       "    <tr>\n",
       "      <th>0</th>\n",
       "      <td>12/1/2016</td>\n",
       "      <td>NEAMH COTTAGE CARRIGDANGAN, KILMICHAEL, CORK</td>\n",
       "      <td>NaN</td>\n",
       "      <td>Cork</td>\n",
       "      <td>30,000.00</td>\n",
       "      <td>No</td>\n",
       "      <td>No</td>\n",
       "      <td>Second-Hand Dwelling house /Apartment</td>\n",
       "      <td>NaN</td>\n",
       "    </tr>\n",
       "    <tr>\n",
       "      <th>1</th>\n",
       "      <td>9/9/2010</td>\n",
       "      <td>No.5 O'Brien Street, Waterford</td>\n",
       "      <td>NaN</td>\n",
       "      <td>Waterford</td>\n",
       "      <td>7,000.00</td>\n",
       "      <td>No</td>\n",
       "      <td>No</td>\n",
       "      <td>Second-Hand Dwelling house /Apartment</td>\n",
       "      <td>NaN</td>\n",
       "    </tr>\n",
       "    <tr>\n",
       "      <th>2</th>\n",
       "      <td>14/03/2018</td>\n",
       "      <td>CLOGHERANE, LAURAGH, KILLARNEY</td>\n",
       "      <td>NaN</td>\n",
       "      <td>Kerry</td>\n",
       "      <td>170,000.00</td>\n",
       "      <td>No</td>\n",
       "      <td>No</td>\n",
       "      <td>Second-Hand Dwelling house /Apartment</td>\n",
       "      <td>NaN</td>\n",
       "    </tr>\n",
       "    <tr>\n",
       "      <th>3</th>\n",
       "      <td>30/05/2014</td>\n",
       "      <td>27 The Oaks, Frenchpark</td>\n",
       "      <td>NaN</td>\n",
       "      <td>Roscommon</td>\n",
       "      <td>30,000.00</td>\n",
       "      <td>No</td>\n",
       "      <td>Yes</td>\n",
       "      <td>New Dwelling house /Apartment</td>\n",
       "      <td>greater than or equal to 38 sq metres and less...</td>\n",
       "    </tr>\n",
       "    <tr>\n",
       "      <th>4</th>\n",
       "      <td>26/11/2010</td>\n",
       "      <td>71 Laurel Grove, Tagoat, Wexford</td>\n",
       "      <td>NaN</td>\n",
       "      <td>Wexford</td>\n",
       "      <td>95,000.00</td>\n",
       "      <td>No</td>\n",
       "      <td>No</td>\n",
       "      <td>Second-Hand Dwelling house /Apartment</td>\n",
       "      <td>NaN</td>\n",
       "    </tr>\n",
       "  </tbody>\n",
       "</table>\n",
       "</div>"
      ],
      "text/plain": [
       "  Date_of_Sale_ddmmyyyy                                       Address  \\\n",
       "0             12/1/2016  NEAMH COTTAGE CARRIGDANGAN, KILMICHAEL, CORK   \n",
       "1              9/9/2010                No.5 O'Brien Street, Waterford   \n",
       "2            14/03/2018                CLOGHERANE, LAURAGH, KILLARNEY   \n",
       "3            30/05/2014                       27 The Oaks, Frenchpark   \n",
       "4            26/11/2010              71 Laurel Grove, Tagoat, Wexford   \n",
       "\n",
       "  Postal_Code     County  Price_euro Not_Full_Market_Price VAT_Exclusive  \\\n",
       "0         NaN       Cork   30,000.00                    No            No   \n",
       "1         NaN  Waterford    7,000.00                    No            No   \n",
       "2         NaN      Kerry  170,000.00                    No            No   \n",
       "3         NaN  Roscommon   30,000.00                    No           Yes   \n",
       "4         NaN    Wexford   95,000.00                    No            No   \n",
       "\n",
       "                 Description_of_Property  \\\n",
       "0  Second-Hand Dwelling house /Apartment   \n",
       "1  Second-Hand Dwelling house /Apartment   \n",
       "2  Second-Hand Dwelling house /Apartment   \n",
       "3          New Dwelling house /Apartment   \n",
       "4  Second-Hand Dwelling house /Apartment   \n",
       "\n",
       "                           Property_Size_Description  \n",
       "0                                                NaN  \n",
       "1                                                NaN  \n",
       "2                                                NaN  \n",
       "3  greater than or equal to 38 sq metres and less...  \n",
       "4                                                NaN  "
      ]
     },
     "execution_count": 12,
     "metadata": {},
     "output_type": "execute_result"
    }
   ],
   "source": [
    "# Removing the euro symbol from the values of the Price Column:\n",
    "df.Price_euro = df.Price_euro.str.replace('€', '')\n",
    "df.head(5)"
   ]
  },
  {
   "cell_type": "code",
   "execution_count": 13,
   "id": "91fe64dd",
   "metadata": {},
   "outputs": [
    {
     "data": {
      "text/html": [
       "<div>\n",
       "<style scoped>\n",
       "    .dataframe tbody tr th:only-of-type {\n",
       "        vertical-align: middle;\n",
       "    }\n",
       "\n",
       "    .dataframe tbody tr th {\n",
       "        vertical-align: top;\n",
       "    }\n",
       "\n",
       "    .dataframe thead th {\n",
       "        text-align: right;\n",
       "    }\n",
       "</style>\n",
       "<table border=\"1\" class=\"dataframe\">\n",
       "  <thead>\n",
       "    <tr style=\"text-align: right;\">\n",
       "      <th></th>\n",
       "      <th>Date_of_Sale_ddmmyyyy</th>\n",
       "      <th>Address</th>\n",
       "      <th>Postal_Code</th>\n",
       "      <th>County</th>\n",
       "      <th>Price_euro</th>\n",
       "      <th>Not_Full_Market_Price</th>\n",
       "      <th>VAT_Exclusive</th>\n",
       "      <th>Description_of_Property</th>\n",
       "      <th>Property_Size_Description</th>\n",
       "    </tr>\n",
       "  </thead>\n",
       "  <tbody>\n",
       "    <tr>\n",
       "      <th>0</th>\n",
       "      <td>12/1/2016</td>\n",
       "      <td>NEAMH COTTAGE CARRIGDANGAN, KILMICHAEL, CORK</td>\n",
       "      <td>NaN</td>\n",
       "      <td>Cork</td>\n",
       "      <td>30000.00</td>\n",
       "      <td>No</td>\n",
       "      <td>No</td>\n",
       "      <td>Second-Hand Dwelling house /Apartment</td>\n",
       "      <td>NaN</td>\n",
       "    </tr>\n",
       "    <tr>\n",
       "      <th>1</th>\n",
       "      <td>9/9/2010</td>\n",
       "      <td>No.5 O'Brien Street, Waterford</td>\n",
       "      <td>NaN</td>\n",
       "      <td>Waterford</td>\n",
       "      <td>7000.00</td>\n",
       "      <td>No</td>\n",
       "      <td>No</td>\n",
       "      <td>Second-Hand Dwelling house /Apartment</td>\n",
       "      <td>NaN</td>\n",
       "    </tr>\n",
       "    <tr>\n",
       "      <th>2</th>\n",
       "      <td>14/03/2018</td>\n",
       "      <td>CLOGHERANE, LAURAGH, KILLARNEY</td>\n",
       "      <td>NaN</td>\n",
       "      <td>Kerry</td>\n",
       "      <td>170000.00</td>\n",
       "      <td>No</td>\n",
       "      <td>No</td>\n",
       "      <td>Second-Hand Dwelling house /Apartment</td>\n",
       "      <td>NaN</td>\n",
       "    </tr>\n",
       "    <tr>\n",
       "      <th>3</th>\n",
       "      <td>30/05/2014</td>\n",
       "      <td>27 The Oaks, Frenchpark</td>\n",
       "      <td>NaN</td>\n",
       "      <td>Roscommon</td>\n",
       "      <td>30000.00</td>\n",
       "      <td>No</td>\n",
       "      <td>Yes</td>\n",
       "      <td>New Dwelling house /Apartment</td>\n",
       "      <td>greater than or equal to 38 sq metres and less...</td>\n",
       "    </tr>\n",
       "    <tr>\n",
       "      <th>4</th>\n",
       "      <td>26/11/2010</td>\n",
       "      <td>71 Laurel Grove, Tagoat, Wexford</td>\n",
       "      <td>NaN</td>\n",
       "      <td>Wexford</td>\n",
       "      <td>95000.00</td>\n",
       "      <td>No</td>\n",
       "      <td>No</td>\n",
       "      <td>Second-Hand Dwelling house /Apartment</td>\n",
       "      <td>NaN</td>\n",
       "    </tr>\n",
       "  </tbody>\n",
       "</table>\n",
       "</div>"
      ],
      "text/plain": [
       "  Date_of_Sale_ddmmyyyy                                       Address  \\\n",
       "0             12/1/2016  NEAMH COTTAGE CARRIGDANGAN, KILMICHAEL, CORK   \n",
       "1              9/9/2010                No.5 O'Brien Street, Waterford   \n",
       "2            14/03/2018                CLOGHERANE, LAURAGH, KILLARNEY   \n",
       "3            30/05/2014                       27 The Oaks, Frenchpark   \n",
       "4            26/11/2010              71 Laurel Grove, Tagoat, Wexford   \n",
       "\n",
       "  Postal_Code     County Price_euro Not_Full_Market_Price VAT_Exclusive  \\\n",
       "0         NaN       Cork   30000.00                    No            No   \n",
       "1         NaN  Waterford    7000.00                    No            No   \n",
       "2         NaN      Kerry  170000.00                    No            No   \n",
       "3         NaN  Roscommon   30000.00                    No           Yes   \n",
       "4         NaN    Wexford   95000.00                    No            No   \n",
       "\n",
       "                 Description_of_Property  \\\n",
       "0  Second-Hand Dwelling house /Apartment   \n",
       "1  Second-Hand Dwelling house /Apartment   \n",
       "2  Second-Hand Dwelling house /Apartment   \n",
       "3          New Dwelling house /Apartment   \n",
       "4  Second-Hand Dwelling house /Apartment   \n",
       "\n",
       "                           Property_Size_Description  \n",
       "0                                                NaN  \n",
       "1                                                NaN  \n",
       "2                                                NaN  \n",
       "3  greater than or equal to 38 sq metres and less...  \n",
       "4                                                NaN  "
      ]
     },
     "execution_count": 13,
     "metadata": {},
     "output_type": "execute_result"
    }
   ],
   "source": [
    "# Remove commas from Price_euro Column:\n",
    "df.Price_euro = df.Price_euro.str.replace(',', '')\n",
    "df.head(5)"
   ]
  },
  {
   "cell_type": "markdown",
   "id": "c57e2bc7",
   "metadata": {},
   "source": [
    "<b>Data of Sale Column:</b><br>\n",
    "To aid in future analysis, I am going to add a ‘Day’, ‘Month’, and ‘Year’ columns and populating those fields with the information from the current ‘Date_of_Sale_ddmmyyyy’ column.<br>\n",
    "The two main reasons for these changes:<br>\n",
    "1)\tEase of using the date with these distinctions<br>\n",
    "2)\tIt will add levels of the date to more easily analysis (i.e., by month, day, or year only)"
   ]
  },
  {
   "cell_type": "code",
   "execution_count": 14,
   "id": "ab83ae2e",
   "metadata": {},
   "outputs": [
    {
     "data": {
      "text/html": [
       "<div>\n",
       "<style scoped>\n",
       "    .dataframe tbody tr th:only-of-type {\n",
       "        vertical-align: middle;\n",
       "    }\n",
       "\n",
       "    .dataframe tbody tr th {\n",
       "        vertical-align: top;\n",
       "    }\n",
       "\n",
       "    .dataframe thead th {\n",
       "        text-align: right;\n",
       "    }\n",
       "</style>\n",
       "<table border=\"1\" class=\"dataframe\">\n",
       "  <thead>\n",
       "    <tr style=\"text-align: right;\">\n",
       "      <th></th>\n",
       "      <th>Date_of_Sale_ddmmyyyy</th>\n",
       "      <th>Address</th>\n",
       "      <th>Postal_Code</th>\n",
       "      <th>County</th>\n",
       "      <th>Price_euro</th>\n",
       "      <th>Not_Full_Market_Price</th>\n",
       "      <th>VAT_Exclusive</th>\n",
       "      <th>Description_of_Property</th>\n",
       "      <th>Property_Size_Description</th>\n",
       "      <th>Day</th>\n",
       "      <th>Month</th>\n",
       "      <th>Year</th>\n",
       "    </tr>\n",
       "  </thead>\n",
       "  <tbody>\n",
       "    <tr>\n",
       "      <th>0</th>\n",
       "      <td>12/1/2016</td>\n",
       "      <td>NEAMH COTTAGE CARRIGDANGAN, KILMICHAEL, CORK</td>\n",
       "      <td>NaN</td>\n",
       "      <td>Cork</td>\n",
       "      <td>30000.00</td>\n",
       "      <td>No</td>\n",
       "      <td>No</td>\n",
       "      <td>Second-Hand Dwelling house /Apartment</td>\n",
       "      <td>NaN</td>\n",
       "      <td>12</td>\n",
       "      <td>1</td>\n",
       "      <td>2016</td>\n",
       "    </tr>\n",
       "    <tr>\n",
       "      <th>1</th>\n",
       "      <td>9/9/2010</td>\n",
       "      <td>No.5 O'Brien Street, Waterford</td>\n",
       "      <td>NaN</td>\n",
       "      <td>Waterford</td>\n",
       "      <td>7000.00</td>\n",
       "      <td>No</td>\n",
       "      <td>No</td>\n",
       "      <td>Second-Hand Dwelling house /Apartment</td>\n",
       "      <td>NaN</td>\n",
       "      <td>9</td>\n",
       "      <td>9</td>\n",
       "      <td>2010</td>\n",
       "    </tr>\n",
       "    <tr>\n",
       "      <th>2</th>\n",
       "      <td>14/03/2018</td>\n",
       "      <td>CLOGHERANE, LAURAGH, KILLARNEY</td>\n",
       "      <td>NaN</td>\n",
       "      <td>Kerry</td>\n",
       "      <td>170000.00</td>\n",
       "      <td>No</td>\n",
       "      <td>No</td>\n",
       "      <td>Second-Hand Dwelling house /Apartment</td>\n",
       "      <td>NaN</td>\n",
       "      <td>14</td>\n",
       "      <td>03</td>\n",
       "      <td>2018</td>\n",
       "    </tr>\n",
       "    <tr>\n",
       "      <th>3</th>\n",
       "      <td>30/05/2014</td>\n",
       "      <td>27 The Oaks, Frenchpark</td>\n",
       "      <td>NaN</td>\n",
       "      <td>Roscommon</td>\n",
       "      <td>30000.00</td>\n",
       "      <td>No</td>\n",
       "      <td>Yes</td>\n",
       "      <td>New Dwelling house /Apartment</td>\n",
       "      <td>greater than or equal to 38 sq metres and less...</td>\n",
       "      <td>30</td>\n",
       "      <td>05</td>\n",
       "      <td>2014</td>\n",
       "    </tr>\n",
       "    <tr>\n",
       "      <th>4</th>\n",
       "      <td>26/11/2010</td>\n",
       "      <td>71 Laurel Grove, Tagoat, Wexford</td>\n",
       "      <td>NaN</td>\n",
       "      <td>Wexford</td>\n",
       "      <td>95000.00</td>\n",
       "      <td>No</td>\n",
       "      <td>No</td>\n",
       "      <td>Second-Hand Dwelling house /Apartment</td>\n",
       "      <td>NaN</td>\n",
       "      <td>26</td>\n",
       "      <td>11</td>\n",
       "      <td>2010</td>\n",
       "    </tr>\n",
       "  </tbody>\n",
       "</table>\n",
       "</div>"
      ],
      "text/plain": [
       "  Date_of_Sale_ddmmyyyy                                       Address  \\\n",
       "0             12/1/2016  NEAMH COTTAGE CARRIGDANGAN, KILMICHAEL, CORK   \n",
       "1              9/9/2010                No.5 O'Brien Street, Waterford   \n",
       "2            14/03/2018                CLOGHERANE, LAURAGH, KILLARNEY   \n",
       "3            30/05/2014                       27 The Oaks, Frenchpark   \n",
       "4            26/11/2010              71 Laurel Grove, Tagoat, Wexford   \n",
       "\n",
       "  Postal_Code     County Price_euro Not_Full_Market_Price VAT_Exclusive  \\\n",
       "0         NaN       Cork   30000.00                    No            No   \n",
       "1         NaN  Waterford    7000.00                    No            No   \n",
       "2         NaN      Kerry  170000.00                    No            No   \n",
       "3         NaN  Roscommon   30000.00                    No           Yes   \n",
       "4         NaN    Wexford   95000.00                    No            No   \n",
       "\n",
       "                 Description_of_Property  \\\n",
       "0  Second-Hand Dwelling house /Apartment   \n",
       "1  Second-Hand Dwelling house /Apartment   \n",
       "2  Second-Hand Dwelling house /Apartment   \n",
       "3          New Dwelling house /Apartment   \n",
       "4  Second-Hand Dwelling house /Apartment   \n",
       "\n",
       "                           Property_Size_Description Day Month  Year  \n",
       "0                                                NaN  12     1  2016  \n",
       "1                                                NaN   9     9  2010  \n",
       "2                                                NaN  14    03  2018  \n",
       "3  greater than or equal to 38 sq metres and less...  30    05  2014  \n",
       "4                                                NaN  26    11  2010  "
      ]
     },
     "execution_count": 14,
     "metadata": {},
     "output_type": "execute_result"
    }
   ],
   "source": [
    "# Split Date of Sale into Year, Month, Day Columns:\n",
    "df[['Day', 'Month', 'Year']] = df.Date_of_Sale_ddmmyyyy.str.split('/', expand=True)\n",
    "df.head(5)"
   ]
  },
  {
   "cell_type": "markdown",
   "id": "fb86c918",
   "metadata": {},
   "source": [
    "While inspecting the new date columns, I notice that some fields have a leading zero, which should be taken care of.  Below when I am going to update the data types, the leading zeros will be solved.  I will change the new date columns into ‘int’, which disregards leading zeros."
   ]
  },
  {
   "cell_type": "code",
   "execution_count": 15,
   "id": "b5a35001",
   "metadata": {},
   "outputs": [
    {
     "data": {
      "text/html": [
       "<div>\n",
       "<style scoped>\n",
       "    .dataframe tbody tr th:only-of-type {\n",
       "        vertical-align: middle;\n",
       "    }\n",
       "\n",
       "    .dataframe tbody tr th {\n",
       "        vertical-align: top;\n",
       "    }\n",
       "\n",
       "    .dataframe thead th {\n",
       "        text-align: right;\n",
       "    }\n",
       "</style>\n",
       "<table border=\"1\" class=\"dataframe\">\n",
       "  <thead>\n",
       "    <tr style=\"text-align: right;\">\n",
       "      <th></th>\n",
       "      <th>Date_of_Sale_ddmmyyyy</th>\n",
       "      <th>Address</th>\n",
       "      <th>Postal_Code</th>\n",
       "      <th>County</th>\n",
       "      <th>Price_euro</th>\n",
       "      <th>Not_Full_Market_Price</th>\n",
       "      <th>VAT_Exclusive</th>\n",
       "      <th>Description_of_Property</th>\n",
       "      <th>Property_Size_Description</th>\n",
       "      <th>Day</th>\n",
       "      <th>Month</th>\n",
       "      <th>Year</th>\n",
       "      <th>DoS_yyyymmdd</th>\n",
       "    </tr>\n",
       "  </thead>\n",
       "  <tbody>\n",
       "    <tr>\n",
       "      <th>0</th>\n",
       "      <td>12/1/2016</td>\n",
       "      <td>NEAMH COTTAGE CARRIGDANGAN, KILMICHAEL, CORK</td>\n",
       "      <td>NaN</td>\n",
       "      <td>Cork</td>\n",
       "      <td>30000.00</td>\n",
       "      <td>No</td>\n",
       "      <td>No</td>\n",
       "      <td>Second-Hand Dwelling house /Apartment</td>\n",
       "      <td>NaN</td>\n",
       "      <td>12</td>\n",
       "      <td>1</td>\n",
       "      <td>2016</td>\n",
       "      <td>2016/1/12</td>\n",
       "    </tr>\n",
       "    <tr>\n",
       "      <th>1</th>\n",
       "      <td>9/9/2010</td>\n",
       "      <td>No.5 O'Brien Street, Waterford</td>\n",
       "      <td>NaN</td>\n",
       "      <td>Waterford</td>\n",
       "      <td>7000.00</td>\n",
       "      <td>No</td>\n",
       "      <td>No</td>\n",
       "      <td>Second-Hand Dwelling house /Apartment</td>\n",
       "      <td>NaN</td>\n",
       "      <td>9</td>\n",
       "      <td>9</td>\n",
       "      <td>2010</td>\n",
       "      <td>2010/9/9</td>\n",
       "    </tr>\n",
       "    <tr>\n",
       "      <th>2</th>\n",
       "      <td>14/03/2018</td>\n",
       "      <td>CLOGHERANE, LAURAGH, KILLARNEY</td>\n",
       "      <td>NaN</td>\n",
       "      <td>Kerry</td>\n",
       "      <td>170000.00</td>\n",
       "      <td>No</td>\n",
       "      <td>No</td>\n",
       "      <td>Second-Hand Dwelling house /Apartment</td>\n",
       "      <td>NaN</td>\n",
       "      <td>14</td>\n",
       "      <td>03</td>\n",
       "      <td>2018</td>\n",
       "      <td>2018/03/14</td>\n",
       "    </tr>\n",
       "    <tr>\n",
       "      <th>3</th>\n",
       "      <td>30/05/2014</td>\n",
       "      <td>27 The Oaks, Frenchpark</td>\n",
       "      <td>NaN</td>\n",
       "      <td>Roscommon</td>\n",
       "      <td>30000.00</td>\n",
       "      <td>No</td>\n",
       "      <td>Yes</td>\n",
       "      <td>New Dwelling house /Apartment</td>\n",
       "      <td>greater than or equal to 38 sq metres and less...</td>\n",
       "      <td>30</td>\n",
       "      <td>05</td>\n",
       "      <td>2014</td>\n",
       "      <td>2014/05/30</td>\n",
       "    </tr>\n",
       "    <tr>\n",
       "      <th>4</th>\n",
       "      <td>26/11/2010</td>\n",
       "      <td>71 Laurel Grove, Tagoat, Wexford</td>\n",
       "      <td>NaN</td>\n",
       "      <td>Wexford</td>\n",
       "      <td>95000.00</td>\n",
       "      <td>No</td>\n",
       "      <td>No</td>\n",
       "      <td>Second-Hand Dwelling house /Apartment</td>\n",
       "      <td>NaN</td>\n",
       "      <td>26</td>\n",
       "      <td>11</td>\n",
       "      <td>2010</td>\n",
       "      <td>2010/11/26</td>\n",
       "    </tr>\n",
       "  </tbody>\n",
       "</table>\n",
       "</div>"
      ],
      "text/plain": [
       "  Date_of_Sale_ddmmyyyy                                       Address  \\\n",
       "0             12/1/2016  NEAMH COTTAGE CARRIGDANGAN, KILMICHAEL, CORK   \n",
       "1              9/9/2010                No.5 O'Brien Street, Waterford   \n",
       "2            14/03/2018                CLOGHERANE, LAURAGH, KILLARNEY   \n",
       "3            30/05/2014                       27 The Oaks, Frenchpark   \n",
       "4            26/11/2010              71 Laurel Grove, Tagoat, Wexford   \n",
       "\n",
       "  Postal_Code     County Price_euro Not_Full_Market_Price VAT_Exclusive  \\\n",
       "0         NaN       Cork   30000.00                    No            No   \n",
       "1         NaN  Waterford    7000.00                    No            No   \n",
       "2         NaN      Kerry  170000.00                    No            No   \n",
       "3         NaN  Roscommon   30000.00                    No           Yes   \n",
       "4         NaN    Wexford   95000.00                    No            No   \n",
       "\n",
       "                 Description_of_Property  \\\n",
       "0  Second-Hand Dwelling house /Apartment   \n",
       "1  Second-Hand Dwelling house /Apartment   \n",
       "2  Second-Hand Dwelling house /Apartment   \n",
       "3          New Dwelling house /Apartment   \n",
       "4  Second-Hand Dwelling house /Apartment   \n",
       "\n",
       "                           Property_Size_Description Day Month  Year  \\\n",
       "0                                                NaN  12     1  2016   \n",
       "1                                                NaN   9     9  2010   \n",
       "2                                                NaN  14    03  2018   \n",
       "3  greater than or equal to 38 sq metres and less...  30    05  2014   \n",
       "4                                                NaN  26    11  2010   \n",
       "\n",
       "  DoS_yyyymmdd  \n",
       "0    2016/1/12  \n",
       "1     2010/9/9  \n",
       "2   2018/03/14  \n",
       "3   2014/05/30  \n",
       "4   2010/11/26  "
      ]
     },
     "execution_count": 15,
     "metadata": {},
     "output_type": "execute_result"
    }
   ],
   "source": [
    "df['DoS_yyyymmdd'] = df.Year + '/' + df.Month + '/' + df.Day\n",
    "df.head(5)"
   ]
  },
  {
   "cell_type": "markdown",
   "id": "0d20275a",
   "metadata": {},
   "source": [
    "<b>Updating Data Types:</b><br>\n",
    "Initially, I was going to update this data type to datetime, but this format is not in datetime’s default format.  I have already made a new column ‘DoS_yyyymmdd’, which is in the format of datetime, so I will drop this column below.<br>\n",
    "<b>Address:</b> string<br>\n",
    "Decided on string for use in future processes.<br>\n",
    "<b>Postal_Code:</b> category<br>\n",
    "<b>County:</b> category<br>\n",
    "<b>Price_euro:</b>  float64<br>\n",
    "<b>Not_Full_Market_Price:</b>  category<br>\n",
    "<b>VAT_Exclusive:</b> category<br>\n",
    "<b>Description_of_Property:</b> category<br>\n",
    "After looking at the data, there was only two description types, so categorical made the most sense.<br>\n",
    "<b>Property_Size_Description:</b> category<br>\n",
    "After looking at the data, these fell into standard descriptions, so categorical made the most sense.<br>\n",
    "<b>Day:</b> category<br>\n",
    "Initially, will update data type to int.  This will rid them of leading zeros but will then update to category as they are broken down into more specific bins.<br>\n",
    "<b>Month:</b> category<br>\n",
    "Initially, will update data type to int.  This will rid them of leading zeros but will then update to category as they are broken down into more specific bins.<br>\n",
    "<b>Year:</b> category<br>\n",
    "Initially, will update data type to int.  This will rid them of leading zeros but will then update to category as they are broken down into more specific bins.<br>\n",
    "<b>DoS_yyyymmdd:</b> datetime<br>\n",
    "I know datetime uses nanoseconds, but it made the most sense to have date as a date type.  I did not make this categorical due to the data spanning ten years.<br>\n"
   ]
  },
  {
   "cell_type": "code",
   "execution_count": 16,
   "id": "9ad292ec",
   "metadata": {},
   "outputs": [
    {
     "data": {
      "text/plain": [
       "Date_of_Sale_ddmmyyyy        object\n",
       "Address                      object\n",
       "Postal_Code                  object\n",
       "County                       object\n",
       "Price_euro                   object\n",
       "Not_Full_Market_Price        object\n",
       "VAT_Exclusive                object\n",
       "Description_of_Property      object\n",
       "Property_Size_Description    object\n",
       "Day                          object\n",
       "Month                        object\n",
       "Year                         object\n",
       "DoS_yyyymmdd                 object\n",
       "dtype: object"
      ]
     },
     "execution_count": 16,
     "metadata": {},
     "output_type": "execute_result"
    }
   ],
   "source": [
    "df.dtypes"
   ]
  },
  {
   "cell_type": "code",
   "execution_count": 17,
   "id": "541493dd",
   "metadata": {},
   "outputs": [
    {
     "data": {
      "text/plain": [
       "Date_of_Sale_ddmmyyyy                object\n",
       "Address                              string\n",
       "Postal_Code                        category\n",
       "County                             category\n",
       "Price_euro                          float64\n",
       "Not_Full_Market_Price              category\n",
       "VAT_Exclusive                      category\n",
       "Description_of_Property            category\n",
       "Property_Size_Description          category\n",
       "Day                                   int64\n",
       "Month                                 int64\n",
       "Year                                  int64\n",
       "DoS_yyyymmdd                 datetime64[ns]\n",
       "dtype: object"
      ]
     },
     "execution_count": 17,
     "metadata": {},
     "output_type": "execute_result"
    }
   ],
   "source": [
    "# Change Data Types:\n",
    "df['DoS_yyyymmdd'] = df['DoS_yyyymmdd'].astype('datetime64')\n",
    "\n",
    "df['Address'] = df['Address'].astype('string')\n",
    "\n",
    "df['Postal_Code'] = df['Postal_Code'].astype('category')\n",
    "df['County'] = df['County'].astype('category')\n",
    "df['Not_Full_Market_Price'] = df['Not_Full_Market_Price'].astype('category')\n",
    "df['VAT_Exclusive'] = df['VAT_Exclusive'].astype('category')\n",
    "df['Description_of_Property'] = df['Description_of_Property'].astype('category')\n",
    "df['Property_Size_Description'] = df['Property_Size_Description'].astype('category')\n",
    "\n",
    "df['Price_euro'] = df['Price_euro'].astype('float64')\n",
    "\n",
    "df['Day'] = df['Day'].astype('int64')\n",
    "df['Month'] = df['Month'].astype('int64')\n",
    "df['Year'] = df['Year'].astype('int64')\n",
    "\n",
    "df.dtypes"
   ]
  },
  {
   "cell_type": "code",
   "execution_count": 18,
   "id": "1b8e5584",
   "metadata": {},
   "outputs": [
    {
     "data": {
      "text/plain": [
       "Date_of_Sale_ddmmyyyy                object\n",
       "Address                              string\n",
       "Postal_Code                        category\n",
       "County                             category\n",
       "Price_euro                          float64\n",
       "Not_Full_Market_Price              category\n",
       "VAT_Exclusive                      category\n",
       "Description_of_Property            category\n",
       "Property_Size_Description          category\n",
       "Day                                category\n",
       "Month                              category\n",
       "Year                               category\n",
       "DoS_yyyymmdd                 datetime64[ns]\n",
       "dtype: object"
      ]
     },
     "execution_count": 18,
     "metadata": {},
     "output_type": "execute_result"
    }
   ],
   "source": [
    "# Change Day, Month, and Year to Category:\n",
    "# Intially changed to int64 to rid of leading zeros:\n",
    "df['Day'] = df['Day'].astype('category')\n",
    "df['Month'] = df['Month'].astype('category')\n",
    "df['Year'] = df['Year'].astype('category')\n",
    "\n",
    "df.dtypes"
   ]
  },
  {
   "cell_type": "code",
   "execution_count": 19,
   "id": "12d89886",
   "metadata": {},
   "outputs": [
    {
     "data": {
      "text/html": [
       "<div>\n",
       "<style scoped>\n",
       "    .dataframe tbody tr th:only-of-type {\n",
       "        vertical-align: middle;\n",
       "    }\n",
       "\n",
       "    .dataframe tbody tr th {\n",
       "        vertical-align: top;\n",
       "    }\n",
       "\n",
       "    .dataframe thead th {\n",
       "        text-align: right;\n",
       "    }\n",
       "</style>\n",
       "<table border=\"1\" class=\"dataframe\">\n",
       "  <thead>\n",
       "    <tr style=\"text-align: right;\">\n",
       "      <th></th>\n",
       "      <th>Date_of_Sale_ddmmyyyy</th>\n",
       "      <th>Address</th>\n",
       "      <th>Postal_Code</th>\n",
       "      <th>County</th>\n",
       "      <th>Price_euro</th>\n",
       "      <th>Not_Full_Market_Price</th>\n",
       "      <th>VAT_Exclusive</th>\n",
       "      <th>Description_of_Property</th>\n",
       "      <th>Property_Size_Description</th>\n",
       "      <th>Day</th>\n",
       "      <th>Month</th>\n",
       "      <th>Year</th>\n",
       "      <th>DoS_yyyymmdd</th>\n",
       "    </tr>\n",
       "  </thead>\n",
       "  <tbody>\n",
       "    <tr>\n",
       "      <th>0</th>\n",
       "      <td>12/1/2016</td>\n",
       "      <td>NEAMH COTTAGE CARRIGDANGAN, KILMICHAEL, CORK</td>\n",
       "      <td>NaN</td>\n",
       "      <td>Cork</td>\n",
       "      <td>30000.0</td>\n",
       "      <td>No</td>\n",
       "      <td>No</td>\n",
       "      <td>Second-Hand Dwelling house /Apartment</td>\n",
       "      <td>NaN</td>\n",
       "      <td>12</td>\n",
       "      <td>1</td>\n",
       "      <td>2016</td>\n",
       "      <td>2016-01-12</td>\n",
       "    </tr>\n",
       "    <tr>\n",
       "      <th>1</th>\n",
       "      <td>9/9/2010</td>\n",
       "      <td>No.5 O'Brien Street, Waterford</td>\n",
       "      <td>NaN</td>\n",
       "      <td>Waterford</td>\n",
       "      <td>7000.0</td>\n",
       "      <td>No</td>\n",
       "      <td>No</td>\n",
       "      <td>Second-Hand Dwelling house /Apartment</td>\n",
       "      <td>NaN</td>\n",
       "      <td>9</td>\n",
       "      <td>9</td>\n",
       "      <td>2010</td>\n",
       "      <td>2010-09-09</td>\n",
       "    </tr>\n",
       "    <tr>\n",
       "      <th>2</th>\n",
       "      <td>14/03/2018</td>\n",
       "      <td>CLOGHERANE, LAURAGH, KILLARNEY</td>\n",
       "      <td>NaN</td>\n",
       "      <td>Kerry</td>\n",
       "      <td>170000.0</td>\n",
       "      <td>No</td>\n",
       "      <td>No</td>\n",
       "      <td>Second-Hand Dwelling house /Apartment</td>\n",
       "      <td>NaN</td>\n",
       "      <td>14</td>\n",
       "      <td>3</td>\n",
       "      <td>2018</td>\n",
       "      <td>2018-03-14</td>\n",
       "    </tr>\n",
       "    <tr>\n",
       "      <th>3</th>\n",
       "      <td>30/05/2014</td>\n",
       "      <td>27 The Oaks, Frenchpark</td>\n",
       "      <td>NaN</td>\n",
       "      <td>Roscommon</td>\n",
       "      <td>30000.0</td>\n",
       "      <td>No</td>\n",
       "      <td>Yes</td>\n",
       "      <td>New Dwelling house /Apartment</td>\n",
       "      <td>greater than or equal to 38 sq metres and less...</td>\n",
       "      <td>30</td>\n",
       "      <td>5</td>\n",
       "      <td>2014</td>\n",
       "      <td>2014-05-30</td>\n",
       "    </tr>\n",
       "    <tr>\n",
       "      <th>4</th>\n",
       "      <td>26/11/2010</td>\n",
       "      <td>71 Laurel Grove, Tagoat, Wexford</td>\n",
       "      <td>NaN</td>\n",
       "      <td>Wexford</td>\n",
       "      <td>95000.0</td>\n",
       "      <td>No</td>\n",
       "      <td>No</td>\n",
       "      <td>Second-Hand Dwelling house /Apartment</td>\n",
       "      <td>NaN</td>\n",
       "      <td>26</td>\n",
       "      <td>11</td>\n",
       "      <td>2010</td>\n",
       "      <td>2010-11-26</td>\n",
       "    </tr>\n",
       "  </tbody>\n",
       "</table>\n",
       "</div>"
      ],
      "text/plain": [
       "  Date_of_Sale_ddmmyyyy                                       Address  \\\n",
       "0             12/1/2016  NEAMH COTTAGE CARRIGDANGAN, KILMICHAEL, CORK   \n",
       "1              9/9/2010                No.5 O'Brien Street, Waterford   \n",
       "2            14/03/2018                CLOGHERANE, LAURAGH, KILLARNEY   \n",
       "3            30/05/2014                       27 The Oaks, Frenchpark   \n",
       "4            26/11/2010              71 Laurel Grove, Tagoat, Wexford   \n",
       "\n",
       "  Postal_Code     County  Price_euro Not_Full_Market_Price VAT_Exclusive  \\\n",
       "0         NaN       Cork     30000.0                    No            No   \n",
       "1         NaN  Waterford      7000.0                    No            No   \n",
       "2         NaN      Kerry    170000.0                    No            No   \n",
       "3         NaN  Roscommon     30000.0                    No           Yes   \n",
       "4         NaN    Wexford     95000.0                    No            No   \n",
       "\n",
       "                 Description_of_Property  \\\n",
       "0  Second-Hand Dwelling house /Apartment   \n",
       "1  Second-Hand Dwelling house /Apartment   \n",
       "2  Second-Hand Dwelling house /Apartment   \n",
       "3          New Dwelling house /Apartment   \n",
       "4  Second-Hand Dwelling house /Apartment   \n",
       "\n",
       "                           Property_Size_Description Day Month  Year  \\\n",
       "0                                                NaN  12     1  2016   \n",
       "1                                                NaN   9     9  2010   \n",
       "2                                                NaN  14     3  2018   \n",
       "3  greater than or equal to 38 sq metres and less...  30     5  2014   \n",
       "4                                                NaN  26    11  2010   \n",
       "\n",
       "  DoS_yyyymmdd  \n",
       "0   2016-01-12  \n",
       "1   2010-09-09  \n",
       "2   2018-03-14  \n",
       "3   2014-05-30  \n",
       "4   2010-11-26  "
      ]
     },
     "execution_count": 19,
     "metadata": {},
     "output_type": "execute_result"
    }
   ],
   "source": [
    "df.head(5)"
   ]
  },
  {
   "cell_type": "code",
   "execution_count": 20,
   "id": "687eb926",
   "metadata": {},
   "outputs": [
    {
     "data": {
      "text/html": [
       "<div>\n",
       "<style scoped>\n",
       "    .dataframe tbody tr th:only-of-type {\n",
       "        vertical-align: middle;\n",
       "    }\n",
       "\n",
       "    .dataframe tbody tr th {\n",
       "        vertical-align: top;\n",
       "    }\n",
       "\n",
       "    .dataframe thead th {\n",
       "        text-align: right;\n",
       "    }\n",
       "</style>\n",
       "<table border=\"1\" class=\"dataframe\">\n",
       "  <thead>\n",
       "    <tr style=\"text-align: right;\">\n",
       "      <th></th>\n",
       "      <th>Address</th>\n",
       "      <th>Postal_Code</th>\n",
       "      <th>County</th>\n",
       "      <th>Price_euro</th>\n",
       "      <th>Not_Full_Market_Price</th>\n",
       "      <th>VAT_Exclusive</th>\n",
       "      <th>Description_of_Property</th>\n",
       "      <th>Property_Size_Description</th>\n",
       "      <th>Day</th>\n",
       "      <th>Month</th>\n",
       "      <th>Year</th>\n",
       "      <th>DoS_yyyymmdd</th>\n",
       "    </tr>\n",
       "  </thead>\n",
       "  <tbody>\n",
       "    <tr>\n",
       "      <th>0</th>\n",
       "      <td>NEAMH COTTAGE CARRIGDANGAN, KILMICHAEL, CORK</td>\n",
       "      <td>NaN</td>\n",
       "      <td>Cork</td>\n",
       "      <td>30000.0</td>\n",
       "      <td>No</td>\n",
       "      <td>No</td>\n",
       "      <td>Second-Hand Dwelling house /Apartment</td>\n",
       "      <td>NaN</td>\n",
       "      <td>12</td>\n",
       "      <td>1</td>\n",
       "      <td>2016</td>\n",
       "      <td>2016-01-12</td>\n",
       "    </tr>\n",
       "    <tr>\n",
       "      <th>1</th>\n",
       "      <td>No.5 O'Brien Street, Waterford</td>\n",
       "      <td>NaN</td>\n",
       "      <td>Waterford</td>\n",
       "      <td>7000.0</td>\n",
       "      <td>No</td>\n",
       "      <td>No</td>\n",
       "      <td>Second-Hand Dwelling house /Apartment</td>\n",
       "      <td>NaN</td>\n",
       "      <td>9</td>\n",
       "      <td>9</td>\n",
       "      <td>2010</td>\n",
       "      <td>2010-09-09</td>\n",
       "    </tr>\n",
       "    <tr>\n",
       "      <th>2</th>\n",
       "      <td>CLOGHERANE, LAURAGH, KILLARNEY</td>\n",
       "      <td>NaN</td>\n",
       "      <td>Kerry</td>\n",
       "      <td>170000.0</td>\n",
       "      <td>No</td>\n",
       "      <td>No</td>\n",
       "      <td>Second-Hand Dwelling house /Apartment</td>\n",
       "      <td>NaN</td>\n",
       "      <td>14</td>\n",
       "      <td>3</td>\n",
       "      <td>2018</td>\n",
       "      <td>2018-03-14</td>\n",
       "    </tr>\n",
       "    <tr>\n",
       "      <th>3</th>\n",
       "      <td>27 The Oaks, Frenchpark</td>\n",
       "      <td>NaN</td>\n",
       "      <td>Roscommon</td>\n",
       "      <td>30000.0</td>\n",
       "      <td>No</td>\n",
       "      <td>Yes</td>\n",
       "      <td>New Dwelling house /Apartment</td>\n",
       "      <td>greater than or equal to 38 sq metres and less...</td>\n",
       "      <td>30</td>\n",
       "      <td>5</td>\n",
       "      <td>2014</td>\n",
       "      <td>2014-05-30</td>\n",
       "    </tr>\n",
       "    <tr>\n",
       "      <th>4</th>\n",
       "      <td>71 Laurel Grove, Tagoat, Wexford</td>\n",
       "      <td>NaN</td>\n",
       "      <td>Wexford</td>\n",
       "      <td>95000.0</td>\n",
       "      <td>No</td>\n",
       "      <td>No</td>\n",
       "      <td>Second-Hand Dwelling house /Apartment</td>\n",
       "      <td>NaN</td>\n",
       "      <td>26</td>\n",
       "      <td>11</td>\n",
       "      <td>2010</td>\n",
       "      <td>2010-11-26</td>\n",
       "    </tr>\n",
       "  </tbody>\n",
       "</table>\n",
       "</div>"
      ],
      "text/plain": [
       "                                        Address Postal_Code     County  \\\n",
       "0  NEAMH COTTAGE CARRIGDANGAN, KILMICHAEL, CORK         NaN       Cork   \n",
       "1                No.5 O'Brien Street, Waterford         NaN  Waterford   \n",
       "2                CLOGHERANE, LAURAGH, KILLARNEY         NaN      Kerry   \n",
       "3                       27 The Oaks, Frenchpark         NaN  Roscommon   \n",
       "4              71 Laurel Grove, Tagoat, Wexford         NaN    Wexford   \n",
       "\n",
       "   Price_euro Not_Full_Market_Price VAT_Exclusive  \\\n",
       "0     30000.0                    No            No   \n",
       "1      7000.0                    No            No   \n",
       "2    170000.0                    No            No   \n",
       "3     30000.0                    No           Yes   \n",
       "4     95000.0                    No            No   \n",
       "\n",
       "                 Description_of_Property  \\\n",
       "0  Second-Hand Dwelling house /Apartment   \n",
       "1  Second-Hand Dwelling house /Apartment   \n",
       "2  Second-Hand Dwelling house /Apartment   \n",
       "3          New Dwelling house /Apartment   \n",
       "4  Second-Hand Dwelling house /Apartment   \n",
       "\n",
       "                           Property_Size_Description Day Month  Year  \\\n",
       "0                                                NaN  12     1  2016   \n",
       "1                                                NaN   9     9  2010   \n",
       "2                                                NaN  14     3  2018   \n",
       "3  greater than or equal to 38 sq metres and less...  30     5  2014   \n",
       "4                                                NaN  26    11  2010   \n",
       "\n",
       "  DoS_yyyymmdd  \n",
       "0   2016-01-12  \n",
       "1   2010-09-09  \n",
       "2   2018-03-14  \n",
       "3   2014-05-30  \n",
       "4   2010-11-26  "
      ]
     },
     "execution_count": 20,
     "metadata": {},
     "output_type": "execute_result"
    }
   ],
   "source": [
    "df = df.drop(['Date_of_Sale_ddmmyyyy'], axis=1)\n",
    "df.head(5)"
   ]
  },
  {
   "cell_type": "markdown",
   "id": "e9387837",
   "metadata": {},
   "source": [
    "<b>Duplicate Rows & Columns:</b><br>\n",
    "There are no duplicate rows or columns in the dataset.<br>\n",
    "Houses have been sold more than once, but not on the same date."
   ]
  },
  {
   "cell_type": "code",
   "execution_count": 21,
   "id": "7f7ab1cd",
   "metadata": {},
   "outputs": [
    {
     "name": "stdout",
     "output_type": "stream",
     "text": [
      "Duplicate Rows (excluding header):  0\n",
      "Duplicate Rows (including header):  0\n"
     ]
    }
   ],
   "source": [
    "# Checking for Duplicate Rows:\n",
    "print('Duplicate Rows (excluding header): ', df.duplicated().sum())\n",
    "print('Duplicate Rows (including header): ', df[df.duplicated(keep=False)].shape[0])"
   ]
  },
  {
   "cell_type": "code",
   "execution_count": 22,
   "id": "983f1be9",
   "metadata": {},
   "outputs": [
    {
     "name": "stdout",
     "output_type": "stream",
     "text": [
      "Duplicate Columns (excluding header):  0\n",
      "Duplicate Columns (including header):  0\n"
     ]
    }
   ],
   "source": [
    "# Check for Duplicate Columns:\n",
    "# Transpose the data frame\n",
    "dfTranspose = df.T\n",
    "print('Duplicate Columns (excluding header): ', dfTranspose.duplicated().sum())\n",
    "print('Duplicate Columns (including header): ', dfTranspose[dfTranspose.duplicated(keep=False)].shape[0])"
   ]
  },
  {
   "cell_type": "markdown",
   "id": "8173ebc3",
   "metadata": {},
   "source": [
    "<b>Constant Columns:</b><br>\n",
    "Looking at the 'unique' row of the df.describe below, no columns have only one unique value meaning they are not constant."
   ]
  },
  {
   "cell_type": "code",
   "execution_count": 23,
   "id": "c5b3230b",
   "metadata": {},
   "outputs": [
    {
     "name": "stderr",
     "output_type": "stream",
     "text": [
      "C:\\Users\\Rachel\\AppData\\Local\\Temp/ipykernel_20132/2413634693.py:2: FutureWarning: Treating datetime data as categorical rather than numeric in `.describe` is deprecated and will be removed in a future version of pandas. Specify `datetime_is_numeric=True` to silence this warning and adopt the future behavior now.\n",
      "  df.describe(include='all')\n"
     ]
    },
    {
     "data": {
      "text/html": [
       "<div>\n",
       "<style scoped>\n",
       "    .dataframe tbody tr th:only-of-type {\n",
       "        vertical-align: middle;\n",
       "    }\n",
       "\n",
       "    .dataframe tbody tr th {\n",
       "        vertical-align: top;\n",
       "    }\n",
       "\n",
       "    .dataframe thead th {\n",
       "        text-align: right;\n",
       "    }\n",
       "</style>\n",
       "<table border=\"1\" class=\"dataframe\">\n",
       "  <thead>\n",
       "    <tr style=\"text-align: right;\">\n",
       "      <th></th>\n",
       "      <th>Address</th>\n",
       "      <th>Postal_Code</th>\n",
       "      <th>County</th>\n",
       "      <th>Price_euro</th>\n",
       "      <th>Not_Full_Market_Price</th>\n",
       "      <th>VAT_Exclusive</th>\n",
       "      <th>Description_of_Property</th>\n",
       "      <th>Property_Size_Description</th>\n",
       "      <th>Day</th>\n",
       "      <th>Month</th>\n",
       "      <th>Year</th>\n",
       "      <th>DoS_yyyymmdd</th>\n",
       "    </tr>\n",
       "  </thead>\n",
       "  <tbody>\n",
       "    <tr>\n",
       "      <th>count</th>\n",
       "      <td>10000</td>\n",
       "      <td>1914</td>\n",
       "      <td>10000</td>\n",
       "      <td>1.000000e+04</td>\n",
       "      <td>10000</td>\n",
       "      <td>10000</td>\n",
       "      <td>10000</td>\n",
       "      <td>1016</td>\n",
       "      <td>10000.0</td>\n",
       "      <td>10000.0</td>\n",
       "      <td>10000.0</td>\n",
       "      <td>10000</td>\n",
       "    </tr>\n",
       "    <tr>\n",
       "      <th>unique</th>\n",
       "      <td>9982</td>\n",
       "      <td>23</td>\n",
       "      <td>26</td>\n",
       "      <td>NaN</td>\n",
       "      <td>2</td>\n",
       "      <td>2</td>\n",
       "      <td>3</td>\n",
       "      <td>4</td>\n",
       "      <td>31.0</td>\n",
       "      <td>12.0</td>\n",
       "      <td>13.0</td>\n",
       "      <td>2743</td>\n",
       "    </tr>\n",
       "    <tr>\n",
       "      <th>top</th>\n",
       "      <td>3 BEECHLAWN, KELLS, MEATH</td>\n",
       "      <td>Dublin 15</td>\n",
       "      <td>Dublin</td>\n",
       "      <td>NaN</td>\n",
       "      <td>No</td>\n",
       "      <td>No</td>\n",
       "      <td>Second-Hand Dwelling house /Apartment</td>\n",
       "      <td>greater than or equal to 38 sq metres and less...</td>\n",
       "      <td>22.0</td>\n",
       "      <td>12.0</td>\n",
       "      <td>2019.0</td>\n",
       "      <td>2014-12-22 00:00:00</td>\n",
       "    </tr>\n",
       "    <tr>\n",
       "      <th>freq</th>\n",
       "      <td>2</td>\n",
       "      <td>244</td>\n",
       "      <td>3204</td>\n",
       "      <td>NaN</td>\n",
       "      <td>9522</td>\n",
       "      <td>8429</td>\n",
       "      <td>8402</td>\n",
       "      <td>731</td>\n",
       "      <td>414.0</td>\n",
       "      <td>1249.0</td>\n",
       "      <td>1187.0</td>\n",
       "      <td>33</td>\n",
       "    </tr>\n",
       "    <tr>\n",
       "      <th>first</th>\n",
       "      <td>NaN</td>\n",
       "      <td>NaN</td>\n",
       "      <td>NaN</td>\n",
       "      <td>NaN</td>\n",
       "      <td>NaN</td>\n",
       "      <td>NaN</td>\n",
       "      <td>NaN</td>\n",
       "      <td>NaN</td>\n",
       "      <td>NaN</td>\n",
       "      <td>NaN</td>\n",
       "      <td>NaN</td>\n",
       "      <td>2010-01-04 00:00:00</td>\n",
       "    </tr>\n",
       "    <tr>\n",
       "      <th>last</th>\n",
       "      <td>NaN</td>\n",
       "      <td>NaN</td>\n",
       "      <td>NaN</td>\n",
       "      <td>NaN</td>\n",
       "      <td>NaN</td>\n",
       "      <td>NaN</td>\n",
       "      <td>NaN</td>\n",
       "      <td>NaN</td>\n",
       "      <td>NaN</td>\n",
       "      <td>NaN</td>\n",
       "      <td>NaN</td>\n",
       "      <td>2022-01-07 00:00:00</td>\n",
       "    </tr>\n",
       "    <tr>\n",
       "      <th>mean</th>\n",
       "      <td>NaN</td>\n",
       "      <td>NaN</td>\n",
       "      <td>NaN</td>\n",
       "      <td>2.840887e+05</td>\n",
       "      <td>NaN</td>\n",
       "      <td>NaN</td>\n",
       "      <td>NaN</td>\n",
       "      <td>NaN</td>\n",
       "      <td>NaN</td>\n",
       "      <td>NaN</td>\n",
       "      <td>NaN</td>\n",
       "      <td>NaN</td>\n",
       "    </tr>\n",
       "    <tr>\n",
       "      <th>std</th>\n",
       "      <td>NaN</td>\n",
       "      <td>NaN</td>\n",
       "      <td>NaN</td>\n",
       "      <td>1.596632e+06</td>\n",
       "      <td>NaN</td>\n",
       "      <td>NaN</td>\n",
       "      <td>NaN</td>\n",
       "      <td>NaN</td>\n",
       "      <td>NaN</td>\n",
       "      <td>NaN</td>\n",
       "      <td>NaN</td>\n",
       "      <td>NaN</td>\n",
       "    </tr>\n",
       "    <tr>\n",
       "      <th>min</th>\n",
       "      <td>NaN</td>\n",
       "      <td>NaN</td>\n",
       "      <td>NaN</td>\n",
       "      <td>5.715000e+03</td>\n",
       "      <td>NaN</td>\n",
       "      <td>NaN</td>\n",
       "      <td>NaN</td>\n",
       "      <td>NaN</td>\n",
       "      <td>NaN</td>\n",
       "      <td>NaN</td>\n",
       "      <td>NaN</td>\n",
       "      <td>NaN</td>\n",
       "    </tr>\n",
       "    <tr>\n",
       "      <th>25%</th>\n",
       "      <td>NaN</td>\n",
       "      <td>NaN</td>\n",
       "      <td>NaN</td>\n",
       "      <td>1.200000e+05</td>\n",
       "      <td>NaN</td>\n",
       "      <td>NaN</td>\n",
       "      <td>NaN</td>\n",
       "      <td>NaN</td>\n",
       "      <td>NaN</td>\n",
       "      <td>NaN</td>\n",
       "      <td>NaN</td>\n",
       "      <td>NaN</td>\n",
       "    </tr>\n",
       "    <tr>\n",
       "      <th>50%</th>\n",
       "      <td>NaN</td>\n",
       "      <td>NaN</td>\n",
       "      <td>NaN</td>\n",
       "      <td>2.000000e+05</td>\n",
       "      <td>NaN</td>\n",
       "      <td>NaN</td>\n",
       "      <td>NaN</td>\n",
       "      <td>NaN</td>\n",
       "      <td>NaN</td>\n",
       "      <td>NaN</td>\n",
       "      <td>NaN</td>\n",
       "      <td>NaN</td>\n",
       "    </tr>\n",
       "    <tr>\n",
       "      <th>75%</th>\n",
       "      <td>NaN</td>\n",
       "      <td>NaN</td>\n",
       "      <td>NaN</td>\n",
       "      <td>3.060250e+05</td>\n",
       "      <td>NaN</td>\n",
       "      <td>NaN</td>\n",
       "      <td>NaN</td>\n",
       "      <td>NaN</td>\n",
       "      <td>NaN</td>\n",
       "      <td>NaN</td>\n",
       "      <td>NaN</td>\n",
       "      <td>NaN</td>\n",
       "    </tr>\n",
       "    <tr>\n",
       "      <th>max</th>\n",
       "      <td>NaN</td>\n",
       "      <td>NaN</td>\n",
       "      <td>NaN</td>\n",
       "      <td>1.238000e+08</td>\n",
       "      <td>NaN</td>\n",
       "      <td>NaN</td>\n",
       "      <td>NaN</td>\n",
       "      <td>NaN</td>\n",
       "      <td>NaN</td>\n",
       "      <td>NaN</td>\n",
       "      <td>NaN</td>\n",
       "      <td>NaN</td>\n",
       "    </tr>\n",
       "  </tbody>\n",
       "</table>\n",
       "</div>"
      ],
      "text/plain": [
       "                          Address Postal_Code  County    Price_euro  \\\n",
       "count                       10000        1914   10000  1.000000e+04   \n",
       "unique                       9982          23      26           NaN   \n",
       "top     3 BEECHLAWN, KELLS, MEATH   Dublin 15  Dublin           NaN   \n",
       "freq                            2         244    3204           NaN   \n",
       "first                         NaN         NaN     NaN           NaN   \n",
       "last                          NaN         NaN     NaN           NaN   \n",
       "mean                          NaN         NaN     NaN  2.840887e+05   \n",
       "std                           NaN         NaN     NaN  1.596632e+06   \n",
       "min                           NaN         NaN     NaN  5.715000e+03   \n",
       "25%                           NaN         NaN     NaN  1.200000e+05   \n",
       "50%                           NaN         NaN     NaN  2.000000e+05   \n",
       "75%                           NaN         NaN     NaN  3.060250e+05   \n",
       "max                           NaN         NaN     NaN  1.238000e+08   \n",
       "\n",
       "       Not_Full_Market_Price VAT_Exclusive  \\\n",
       "count                  10000         10000   \n",
       "unique                     2             2   \n",
       "top                       No            No   \n",
       "freq                    9522          8429   \n",
       "first                    NaN           NaN   \n",
       "last                     NaN           NaN   \n",
       "mean                     NaN           NaN   \n",
       "std                      NaN           NaN   \n",
       "min                      NaN           NaN   \n",
       "25%                      NaN           NaN   \n",
       "50%                      NaN           NaN   \n",
       "75%                      NaN           NaN   \n",
       "max                      NaN           NaN   \n",
       "\n",
       "                      Description_of_Property  \\\n",
       "count                                   10000   \n",
       "unique                                      3   \n",
       "top     Second-Hand Dwelling house /Apartment   \n",
       "freq                                     8402   \n",
       "first                                     NaN   \n",
       "last                                      NaN   \n",
       "mean                                      NaN   \n",
       "std                                       NaN   \n",
       "min                                       NaN   \n",
       "25%                                       NaN   \n",
       "50%                                       NaN   \n",
       "75%                                       NaN   \n",
       "max                                       NaN   \n",
       "\n",
       "                                Property_Size_Description      Day    Month  \\\n",
       "count                                                1016  10000.0  10000.0   \n",
       "unique                                                  4     31.0     12.0   \n",
       "top     greater than or equal to 38 sq metres and less...     22.0     12.0   \n",
       "freq                                                  731    414.0   1249.0   \n",
       "first                                                 NaN      NaN      NaN   \n",
       "last                                                  NaN      NaN      NaN   \n",
       "mean                                                  NaN      NaN      NaN   \n",
       "std                                                   NaN      NaN      NaN   \n",
       "min                                                   NaN      NaN      NaN   \n",
       "25%                                                   NaN      NaN      NaN   \n",
       "50%                                                   NaN      NaN      NaN   \n",
       "75%                                                   NaN      NaN      NaN   \n",
       "max                                                   NaN      NaN      NaN   \n",
       "\n",
       "           Year         DoS_yyyymmdd  \n",
       "count   10000.0                10000  \n",
       "unique     13.0                 2743  \n",
       "top      2019.0  2014-12-22 00:00:00  \n",
       "freq     1187.0                   33  \n",
       "first       NaN  2010-01-04 00:00:00  \n",
       "last        NaN  2022-01-07 00:00:00  \n",
       "mean        NaN                  NaN  \n",
       "std         NaN                  NaN  \n",
       "min         NaN                  NaN  \n",
       "25%         NaN                  NaN  \n",
       "50%         NaN                  NaN  \n",
       "75%         NaN                  NaN  \n",
       "max         NaN                  NaN  "
      ]
     },
     "execution_count": 23,
     "metadata": {},
     "output_type": "execute_result"
    }
   ],
   "source": [
    "# Check All:\n",
    "df.describe(include='all')"
   ]
  },
  {
   "cell_type": "markdown",
   "id": "16412c06",
   "metadata": {},
   "source": [
    "<b>Logical Integrity:</b><br>\n",
    "- Test 1: Check for Null Values by Column:<br>\n",
    "&nbsp;- Postal_Code: 8086 rows<br>\n",
    "&nbsp;- Property_Size_Description: 8984 rows"
   ]
  },
  {
   "cell_type": "code",
   "execution_count": 24,
   "id": "244e585a",
   "metadata": {},
   "outputs": [
    {
     "data": {
      "text/plain": [
       "Address                         0\n",
       "Postal_Code                  8086\n",
       "County                          0\n",
       "Price_euro                      0\n",
       "Not_Full_Market_Price           0\n",
       "VAT_Exclusive                   0\n",
       "Description_of_Property         0\n",
       "Property_Size_Description    8984\n",
       "Day                             0\n",
       "Month                           0\n",
       "Year                            0\n",
       "DoS_yyyymmdd                    0\n",
       "dtype: int64"
      ]
     },
     "execution_count": 24,
     "metadata": {},
     "output_type": "execute_result"
    }
   ],
   "source": [
    "df.isnull().sum()"
   ]
  },
  {
   "cell_type": "markdown",
   "id": "5a8c6113",
   "metadata": {},
   "source": [
    "- Test 2: Check for Negative Price Values:<br>"
   ]
  },
  {
   "cell_type": "code",
   "execution_count": 25,
   "id": "ae090767",
   "metadata": {},
   "outputs": [
    {
     "name": "stdout",
     "output_type": "stream",
     "text": [
      "Number of rows failing test:  0\n"
     ]
    }
   ],
   "source": [
    "test_2 = df.Price_euro [df.Price_euro <= 0]\n",
    "print('Number of rows failing test: ', test_2.shape[0])"
   ]
  },
  {
   "cell_type": "markdown",
   "id": "f4603966",
   "metadata": {},
   "source": [
    "- Test 3: Check for Future Dates:<br>"
   ]
  },
  {
   "cell_type": "code",
   "execution_count": 26,
   "id": "d6d9e1af",
   "metadata": {},
   "outputs": [
    {
     "name": "stdout",
     "output_type": "stream",
     "text": [
      "Number of rows failing test:  0\n"
     ]
    }
   ],
   "source": [
    "test_3 = df.DoS_yyyymmdd [df.DoS_yyyymmdd > '2022-03-01']\n",
    "print('Number of rows failing test: ', test_3.shape[0])"
   ]
  },
  {
   "cell_type": "markdown",
   "id": "d1b2ad48",
   "metadata": {},
   "source": [
    "- Test 4: Check for Month Values Less than Zero:<br>"
   ]
  },
  {
   "cell_type": "code",
   "execution_count": 27,
   "id": "a9bc03da",
   "metadata": {},
   "outputs": [
    {
     "name": "stdout",
     "output_type": "stream",
     "text": [
      "Number of rows failing test:  0\n"
     ]
    },
    {
     "name": "stderr",
     "output_type": "stream",
     "text": [
      "C:\\Users\\Rachel\\AppData\\Local\\Temp/ipykernel_20132/2862761735.py:3: SettingWithCopyWarning: \n",
      "A value is trying to be set on a copy of a slice from a DataFrame.\n",
      "Try using .loc[row_indexer,col_indexer] = value instead\n",
      "\n",
      "See the caveats in the documentation: https://pandas.pydata.org/pandas-docs/stable/user_guide/indexing.html#returning-a-view-versus-a-copy\n",
      "  test_dates['Day'] = df['Day'].astype('int64')\n",
      "C:\\Users\\Rachel\\AppData\\Local\\Temp/ipykernel_20132/2862761735.py:4: SettingWithCopyWarning: \n",
      "A value is trying to be set on a copy of a slice from a DataFrame.\n",
      "Try using .loc[row_indexer,col_indexer] = value instead\n",
      "\n",
      "See the caveats in the documentation: https://pandas.pydata.org/pandas-docs/stable/user_guide/indexing.html#returning-a-view-versus-a-copy\n",
      "  test_dates['Month'] = df['Month'].astype('int64')\n",
      "C:\\Users\\Rachel\\AppData\\Local\\Temp/ipykernel_20132/2862761735.py:5: SettingWithCopyWarning: \n",
      "A value is trying to be set on a copy of a slice from a DataFrame.\n",
      "Try using .loc[row_indexer,col_indexer] = value instead\n",
      "\n",
      "See the caveats in the documentation: https://pandas.pydata.org/pandas-docs/stable/user_guide/indexing.html#returning-a-view-versus-a-copy\n",
      "  test_dates['Year'] = df['Year'].astype('int64')\n"
     ]
    }
   ],
   "source": [
    "test_dates = df[['Month', 'Day', 'Year']]\n",
    "\n",
    "test_dates['Day'] = df['Day'].astype('int64')\n",
    "test_dates['Month'] = df['Month'].astype('int64')\n",
    "test_dates['Year'] = df['Year'].astype('int64')\n",
    "\n",
    "test_4 = test_dates.Month [test_dates.Month < 0]\n",
    "\n",
    "print('Number of rows failing test: ', test_4.shape[0])"
   ]
  },
  {
   "cell_type": "markdown",
   "id": "b7954ec1",
   "metadata": {},
   "source": [
    "- Test 5: Check for Month Values Greater than 12:<br>"
   ]
  },
  {
   "cell_type": "code",
   "execution_count": 28,
   "id": "7f525db4",
   "metadata": {},
   "outputs": [
    {
     "name": "stdout",
     "output_type": "stream",
     "text": [
      "Number of rows failing test:  0\n"
     ]
    }
   ],
   "source": [
    "test_5 = test_dates.Month [test_dates.Month > 12]\n",
    "\n",
    "print('Number of rows failing test: ', test_5.shape[0])"
   ]
  },
  {
   "cell_type": "markdown",
   "id": "3324d0b6",
   "metadata": {},
   "source": [
    "- Test 6: Check for Day Values Less than Zero:<br>"
   ]
  },
  {
   "cell_type": "code",
   "execution_count": 29,
   "id": "5c7d393c",
   "metadata": {},
   "outputs": [
    {
     "name": "stdout",
     "output_type": "stream",
     "text": [
      "Number of rows failing test:  0\n"
     ]
    }
   ],
   "source": [
    "test_6 = test_dates.Day [test_dates.Day < 0]\n",
    "\n",
    "print('Number of rows failing test: ', test_6.shape[0])"
   ]
  },
  {
   "cell_type": "markdown",
   "id": "2531ce97",
   "metadata": {},
   "source": [
    "- Test 7: Check for Day Values Greater than 31:<br>"
   ]
  },
  {
   "cell_type": "code",
   "execution_count": 30,
   "id": "1f9aa9aa",
   "metadata": {},
   "outputs": [
    {
     "name": "stdout",
     "output_type": "stream",
     "text": [
      "Number of rows failing test:  0\n"
     ]
    }
   ],
   "source": [
    "test_7 = test_dates.Day [test_dates.Day > 31]\n",
    "\n",
    "print('Number of rows failing test: ', test_7.shape[0])"
   ]
  },
  {
   "cell_type": "markdown",
   "id": "e1c6107c",
   "metadata": {},
   "source": [
    "- Test 8: Check for Year Values Older than 2010:<br>"
   ]
  },
  {
   "cell_type": "code",
   "execution_count": 31,
   "id": "722630df",
   "metadata": {},
   "outputs": [
    {
     "name": "stdout",
     "output_type": "stream",
     "text": [
      "Number of rows failing test:  0\n"
     ]
    }
   ],
   "source": [
    "test_8 = test_dates.Year [test_dates.Year < 2010]\n",
    "\n",
    "print('Number of rows failing test: ', test_8.shape[0])"
   ]
  },
  {
   "cell_type": "markdown",
   "id": "43f8a7e8",
   "metadata": {},
   "source": [
    "- Test 9: Check for Second-hand Dwellings with 'Yes' VAT Exclusive:<br>"
   ]
  },
  {
   "cell_type": "code",
   "execution_count": 32,
   "id": "fd61ba9b",
   "metadata": {},
   "outputs": [
    {
     "name": "stdout",
     "output_type": "stream",
     "text": [
      "Number of rows failing test:  0\n"
     ]
    },
    {
     "name": "stderr",
     "output_type": "stream",
     "text": [
      "C:\\Users\\Rachel\\AppData\\Local\\Temp/ipykernel_20132/425569806.py:4: UserWarning: Boolean Series key will be reindexed to match DataFrame index.\n",
      "  test_9 = vat_propDescrip[['VAT_Exclusive', 'Description_of_Property']] [vat_propDescrip['VAT_Exclusive'] == 'Yes'] [vat_propDescrip['Description_of_Property'] == 'Second-Hand Dwelling house /Apartment']\n"
     ]
    }
   ],
   "source": [
    "vat_propDescrip = df[['VAT_Exclusive', 'Description_of_Property']]\n",
    "#vat_propDescrip\n",
    "\n",
    "test_9 = vat_propDescrip[['VAT_Exclusive', 'Description_of_Property']] [vat_propDescrip['VAT_Exclusive'] == 'Yes'] [vat_propDescrip['Description_of_Property'] == 'Second-Hand Dwelling house /Apartment']\n",
    "print('Number of rows failing test: ', test_9.shape[0])"
   ]
  },
  {
   "cell_type": "code",
   "execution_count": 33,
   "id": "0e292698",
   "metadata": {},
   "outputs": [],
   "source": [
    "# Send Part 1 df to csv:\n",
    "df.to_csv('data/precleaned_rppr_ireland.csv', index=False)"
   ]
  },
  {
   "cell_type": "code",
   "execution_count": 34,
   "id": "dd773f95",
   "metadata": {},
   "outputs": [
    {
     "data": {
      "text/html": [
       "<div>\n",
       "<style scoped>\n",
       "    .dataframe tbody tr th:only-of-type {\n",
       "        vertical-align: middle;\n",
       "    }\n",
       "\n",
       "    .dataframe tbody tr th {\n",
       "        vertical-align: top;\n",
       "    }\n",
       "\n",
       "    .dataframe thead th {\n",
       "        text-align: right;\n",
       "    }\n",
       "</style>\n",
       "<table border=\"1\" class=\"dataframe\">\n",
       "  <thead>\n",
       "    <tr style=\"text-align: right;\">\n",
       "      <th></th>\n",
       "      <th>Address</th>\n",
       "      <th>Postal_Code</th>\n",
       "      <th>County</th>\n",
       "      <th>Price_euro</th>\n",
       "      <th>Not_Full_Market_Price</th>\n",
       "      <th>VAT_Exclusive</th>\n",
       "      <th>Description_of_Property</th>\n",
       "      <th>Property_Size_Description</th>\n",
       "      <th>Day</th>\n",
       "      <th>Month</th>\n",
       "      <th>Year</th>\n",
       "      <th>DoS_yyyymmdd</th>\n",
       "    </tr>\n",
       "  </thead>\n",
       "  <tbody>\n",
       "    <tr>\n",
       "      <th>0</th>\n",
       "      <td>NEAMH COTTAGE CARRIGDANGAN, KILMICHAEL, CORK</td>\n",
       "      <td>NaN</td>\n",
       "      <td>Cork</td>\n",
       "      <td>30000.0</td>\n",
       "      <td>No</td>\n",
       "      <td>No</td>\n",
       "      <td>Second-Hand Dwelling house /Apartment</td>\n",
       "      <td>NaN</td>\n",
       "      <td>12</td>\n",
       "      <td>1</td>\n",
       "      <td>2016</td>\n",
       "      <td>2016-01-12</td>\n",
       "    </tr>\n",
       "    <tr>\n",
       "      <th>1</th>\n",
       "      <td>No.5 O'Brien Street, Waterford</td>\n",
       "      <td>NaN</td>\n",
       "      <td>Waterford</td>\n",
       "      <td>7000.0</td>\n",
       "      <td>No</td>\n",
       "      <td>No</td>\n",
       "      <td>Second-Hand Dwelling house /Apartment</td>\n",
       "      <td>NaN</td>\n",
       "      <td>9</td>\n",
       "      <td>9</td>\n",
       "      <td>2010</td>\n",
       "      <td>2010-09-09</td>\n",
       "    </tr>\n",
       "    <tr>\n",
       "      <th>2</th>\n",
       "      <td>CLOGHERANE, LAURAGH, KILLARNEY</td>\n",
       "      <td>NaN</td>\n",
       "      <td>Kerry</td>\n",
       "      <td>170000.0</td>\n",
       "      <td>No</td>\n",
       "      <td>No</td>\n",
       "      <td>Second-Hand Dwelling house /Apartment</td>\n",
       "      <td>NaN</td>\n",
       "      <td>14</td>\n",
       "      <td>3</td>\n",
       "      <td>2018</td>\n",
       "      <td>2018-03-14</td>\n",
       "    </tr>\n",
       "    <tr>\n",
       "      <th>3</th>\n",
       "      <td>27 The Oaks, Frenchpark</td>\n",
       "      <td>NaN</td>\n",
       "      <td>Roscommon</td>\n",
       "      <td>30000.0</td>\n",
       "      <td>No</td>\n",
       "      <td>Yes</td>\n",
       "      <td>New Dwelling house /Apartment</td>\n",
       "      <td>greater than or equal to 38 sq metres and less...</td>\n",
       "      <td>30</td>\n",
       "      <td>5</td>\n",
       "      <td>2014</td>\n",
       "      <td>2014-05-30</td>\n",
       "    </tr>\n",
       "    <tr>\n",
       "      <th>4</th>\n",
       "      <td>71 Laurel Grove, Tagoat, Wexford</td>\n",
       "      <td>NaN</td>\n",
       "      <td>Wexford</td>\n",
       "      <td>95000.0</td>\n",
       "      <td>No</td>\n",
       "      <td>No</td>\n",
       "      <td>Second-Hand Dwelling house /Apartment</td>\n",
       "      <td>NaN</td>\n",
       "      <td>26</td>\n",
       "      <td>11</td>\n",
       "      <td>2010</td>\n",
       "      <td>2010-11-26</td>\n",
       "    </tr>\n",
       "  </tbody>\n",
       "</table>\n",
       "</div>"
      ],
      "text/plain": [
       "                                        Address Postal_Code     County  \\\n",
       "0  NEAMH COTTAGE CARRIGDANGAN, KILMICHAEL, CORK         NaN       Cork   \n",
       "1                No.5 O'Brien Street, Waterford         NaN  Waterford   \n",
       "2                CLOGHERANE, LAURAGH, KILLARNEY         NaN      Kerry   \n",
       "3                       27 The Oaks, Frenchpark         NaN  Roscommon   \n",
       "4              71 Laurel Grove, Tagoat, Wexford         NaN    Wexford   \n",
       "\n",
       "   Price_euro Not_Full_Market_Price VAT_Exclusive  \\\n",
       "0     30000.0                    No            No   \n",
       "1      7000.0                    No            No   \n",
       "2    170000.0                    No            No   \n",
       "3     30000.0                    No           Yes   \n",
       "4     95000.0                    No            No   \n",
       "\n",
       "                 Description_of_Property  \\\n",
       "0  Second-Hand Dwelling house /Apartment   \n",
       "1  Second-Hand Dwelling house /Apartment   \n",
       "2  Second-Hand Dwelling house /Apartment   \n",
       "3          New Dwelling house /Apartment   \n",
       "4  Second-Hand Dwelling house /Apartment   \n",
       "\n",
       "                           Property_Size_Description  Day  Month  Year  \\\n",
       "0                                                NaN   12      1  2016   \n",
       "1                                                NaN    9      9  2010   \n",
       "2                                                NaN   14      3  2018   \n",
       "3  greater than or equal to 38 sq metres and less...   30      5  2014   \n",
       "4                                                NaN   26     11  2010   \n",
       "\n",
       "  DoS_yyyymmdd  \n",
       "0   2016-01-12  \n",
       "1   2010-09-09  \n",
       "2   2018-03-14  \n",
       "3   2014-05-30  \n",
       "4   2010-11-26  "
      ]
     },
     "execution_count": 34,
     "metadata": {},
     "output_type": "execute_result"
    }
   ],
   "source": [
    "# Read Cleaned CSV file into a Data Frame:\n",
    "df1 = pd.read_csv('data/precleaned_rppr_ireland.csv', keep_default_na=True, delimiter=',', skipinitialspace=True)\n",
    "df1.head()"
   ]
  },
  {
   "cell_type": "code",
   "execution_count": 35,
   "id": "ec94b3af",
   "metadata": {},
   "outputs": [
    {
     "data": {
      "text/plain": [
       "Address                       object\n",
       "Postal_Code                   object\n",
       "County                        object\n",
       "Price_euro                   float64\n",
       "Not_Full_Market_Price         object\n",
       "VAT_Exclusive                 object\n",
       "Description_of_Property       object\n",
       "Property_Size_Description     object\n",
       "Day                            int64\n",
       "Month                          int64\n",
       "Year                           int64\n",
       "DoS_yyyymmdd                  object\n",
       "dtype: object"
      ]
     },
     "execution_count": 35,
     "metadata": {},
     "output_type": "execute_result"
    }
   ],
   "source": [
    "df1.dtypes"
   ]
  },
  {
   "cell_type": "markdown",
   "id": "828530fc",
   "metadata": {},
   "source": [
    "<b>Updating Lost Data Types:</b><br>\n",
    "As you can see above, some data types are lost in the csv process.  Below I will update those types."
   ]
  },
  {
   "cell_type": "code",
   "execution_count": 36,
   "id": "00d6e300",
   "metadata": {},
   "outputs": [
    {
     "data": {
      "text/plain": [
       "Address                              string\n",
       "Postal_Code                        category\n",
       "County                             category\n",
       "Price_euro                          float64\n",
       "Not_Full_Market_Price              category\n",
       "VAT_Exclusive                      category\n",
       "Description_of_Property            category\n",
       "Property_Size_Description          category\n",
       "Day                                category\n",
       "Month                              category\n",
       "Year                               category\n",
       "DoS_yyyymmdd                 datetime64[ns]\n",
       "dtype: object"
      ]
     },
     "execution_count": 36,
     "metadata": {},
     "output_type": "execute_result"
    }
   ],
   "source": [
    "df1['DoS_yyyymmdd'] = df1['DoS_yyyymmdd'].astype('datetime64')\n",
    "\n",
    "df1['Address'] = df1['Address'].astype('string')\n",
    "\n",
    "df1['Postal_Code'] = df1['Postal_Code'].astype('category')\n",
    "df1['County'] = df1['County'].astype('category')\n",
    "df1['Not_Full_Market_Price'] = df1['Not_Full_Market_Price'].astype('category')\n",
    "df1['VAT_Exclusive'] = df1['VAT_Exclusive'].astype('category')\n",
    "df1['Description_of_Property'] = df1['Description_of_Property'].astype('category')\n",
    "df1['Property_Size_Description'] = df1['Property_Size_Description'].astype('category')\n",
    "\n",
    "df1['Day'] = df1['Day'].astype('category')\n",
    "df1['Month'] = df1['Month'].astype('category')\n",
    "df1['Year'] = df1['Year'].astype('category')\n",
    "\n",
    "df1.dtypes"
   ]
  },
  {
   "cell_type": "markdown",
   "id": "a0ae1555",
   "metadata": {},
   "source": [
    "<b>Descriptive Statistics on Continuous Features:</b><br>"
   ]
  },
  {
   "cell_type": "code",
   "execution_count": 37,
   "id": "1d9be064",
   "metadata": {},
   "outputs": [
    {
     "data": {
      "text/html": [
       "<div>\n",
       "<style scoped>\n",
       "    .dataframe tbody tr th:only-of-type {\n",
       "        vertical-align: middle;\n",
       "    }\n",
       "\n",
       "    .dataframe tbody tr th {\n",
       "        vertical-align: top;\n",
       "    }\n",
       "\n",
       "    .dataframe thead th {\n",
       "        text-align: right;\n",
       "    }\n",
       "</style>\n",
       "<table border=\"1\" class=\"dataframe\">\n",
       "  <thead>\n",
       "    <tr style=\"text-align: right;\">\n",
       "      <th></th>\n",
       "      <th>count</th>\n",
       "      <th>mean</th>\n",
       "      <th>std</th>\n",
       "      <th>min</th>\n",
       "      <th>25%</th>\n",
       "      <th>50%</th>\n",
       "      <th>75%</th>\n",
       "      <th>max</th>\n",
       "    </tr>\n",
       "  </thead>\n",
       "  <tbody>\n",
       "    <tr>\n",
       "      <th>Price_euro</th>\n",
       "      <td>10000.0</td>\n",
       "      <td>284088.66976</td>\n",
       "      <td>1.596632e+06</td>\n",
       "      <td>5715.0</td>\n",
       "      <td>120000.0</td>\n",
       "      <td>200000.0</td>\n",
       "      <td>306025.0</td>\n",
       "      <td>123800000.0</td>\n",
       "    </tr>\n",
       "  </tbody>\n",
       "</table>\n",
       "</div>"
      ],
      "text/plain": [
       "              count          mean           std     min       25%       50%  \\\n",
       "Price_euro  10000.0  284088.66976  1.596632e+06  5715.0  120000.0  200000.0   \n",
       "\n",
       "                 75%          max  \n",
       "Price_euro  306025.0  123800000.0  "
      ]
     },
     "execution_count": 37,
     "metadata": {},
     "output_type": "execute_result"
    }
   ],
   "source": [
    "continuous_columns = df1[['Price_euro']]\n",
    "continuous_columns.describe().T"
   ]
  },
  {
   "cell_type": "markdown",
   "id": "6900f44a",
   "metadata": {},
   "source": [
    "<b>Descriptive Statistics on Categorical Features:</b><br>"
   ]
  },
  {
   "cell_type": "code",
   "execution_count": 38,
   "id": "8279c264",
   "metadata": {},
   "outputs": [
    {
     "data": {
      "text/html": [
       "<div>\n",
       "<style scoped>\n",
       "    .dataframe tbody tr th:only-of-type {\n",
       "        vertical-align: middle;\n",
       "    }\n",
       "\n",
       "    .dataframe tbody tr th {\n",
       "        vertical-align: top;\n",
       "    }\n",
       "\n",
       "    .dataframe thead th {\n",
       "        text-align: right;\n",
       "    }\n",
       "</style>\n",
       "<table border=\"1\" class=\"dataframe\">\n",
       "  <thead>\n",
       "    <tr style=\"text-align: right;\">\n",
       "      <th></th>\n",
       "      <th>count</th>\n",
       "      <th>unique</th>\n",
       "      <th>top</th>\n",
       "      <th>freq</th>\n",
       "    </tr>\n",
       "  </thead>\n",
       "  <tbody>\n",
       "    <tr>\n",
       "      <th>Postal_Code</th>\n",
       "      <td>1914</td>\n",
       "      <td>23</td>\n",
       "      <td>Dublin 15</td>\n",
       "      <td>244</td>\n",
       "    </tr>\n",
       "    <tr>\n",
       "      <th>County</th>\n",
       "      <td>10000</td>\n",
       "      <td>26</td>\n",
       "      <td>Dublin</td>\n",
       "      <td>3204</td>\n",
       "    </tr>\n",
       "    <tr>\n",
       "      <th>Not_Full_Market_Price</th>\n",
       "      <td>10000</td>\n",
       "      <td>2</td>\n",
       "      <td>No</td>\n",
       "      <td>9522</td>\n",
       "    </tr>\n",
       "    <tr>\n",
       "      <th>VAT_Exclusive</th>\n",
       "      <td>10000</td>\n",
       "      <td>2</td>\n",
       "      <td>No</td>\n",
       "      <td>8429</td>\n",
       "    </tr>\n",
       "    <tr>\n",
       "      <th>Description_of_Property</th>\n",
       "      <td>10000</td>\n",
       "      <td>3</td>\n",
       "      <td>Second-Hand Dwelling house /Apartment</td>\n",
       "      <td>8402</td>\n",
       "    </tr>\n",
       "    <tr>\n",
       "      <th>Property_Size_Description</th>\n",
       "      <td>1016</td>\n",
       "      <td>4</td>\n",
       "      <td>greater than or equal to 38 sq metres and less...</td>\n",
       "      <td>731</td>\n",
       "    </tr>\n",
       "    <tr>\n",
       "      <th>Day</th>\n",
       "      <td>10000</td>\n",
       "      <td>31</td>\n",
       "      <td>22</td>\n",
       "      <td>414</td>\n",
       "    </tr>\n",
       "    <tr>\n",
       "      <th>Month</th>\n",
       "      <td>10000</td>\n",
       "      <td>12</td>\n",
       "      <td>12</td>\n",
       "      <td>1249</td>\n",
       "    </tr>\n",
       "    <tr>\n",
       "      <th>Year</th>\n",
       "      <td>10000</td>\n",
       "      <td>13</td>\n",
       "      <td>2019</td>\n",
       "      <td>1187</td>\n",
       "    </tr>\n",
       "  </tbody>\n",
       "</table>\n",
       "</div>"
      ],
      "text/plain": [
       "                           count unique  \\\n",
       "Postal_Code                 1914     23   \n",
       "County                     10000     26   \n",
       "Not_Full_Market_Price      10000      2   \n",
       "VAT_Exclusive              10000      2   \n",
       "Description_of_Property    10000      3   \n",
       "Property_Size_Description   1016      4   \n",
       "Day                        10000     31   \n",
       "Month                      10000     12   \n",
       "Year                       10000     13   \n",
       "\n",
       "                                                                         top  \\\n",
       "Postal_Code                                                        Dublin 15   \n",
       "County                                                                Dublin   \n",
       "Not_Full_Market_Price                                                     No   \n",
       "VAT_Exclusive                                                             No   \n",
       "Description_of_Property                Second-Hand Dwelling house /Apartment   \n",
       "Property_Size_Description  greater than or equal to 38 sq metres and less...   \n",
       "Day                                                                       22   \n",
       "Month                                                                     12   \n",
       "Year                                                                    2019   \n",
       "\n",
       "                           freq  \n",
       "Postal_Code                 244  \n",
       "County                     3204  \n",
       "Not_Full_Market_Price      9522  \n",
       "VAT_Exclusive              8429  \n",
       "Description_of_Property    8402  \n",
       "Property_Size_Description   731  \n",
       "Day                         414  \n",
       "Month                      1249  \n",
       "Year                       1187  "
      ]
     },
     "execution_count": 38,
     "metadata": {},
     "output_type": "execute_result"
    }
   ],
   "source": [
    "# Check Category:\n",
    "df1.describe(include='category').T"
   ]
  },
  {
   "cell_type": "markdown",
   "id": "cb335a4a",
   "metadata": {},
   "source": [
    "<b>Histograms for Continuous Features:</b><br>"
   ]
  },
  {
   "cell_type": "code",
   "execution_count": 47,
   "id": "4008b998",
   "metadata": {},
   "outputs": [
    {
     "data": {
      "text/plain": [
       "<AxesSubplot:>"
      ]
     },
     "execution_count": 47,
     "metadata": {},
     "output_type": "execute_result"
    },
    {
     "data": {
      "image/png": "[encoded data removed]",
      "text/plain": [
       "<Figure size 432x288 with 1 Axes>"
      ]
     },
     "metadata": {
      "needs_background": "light"
     },
     "output_type": "display_data"
    }
   ],
   "source": [
    "df1.Price_euro.hist()"
   ]
  },
  {
   "cell_type": "code",
   "execution_count": 48,
   "id": "de683cb0",
   "metadata": {},
   "outputs": [
    {
     "data": {
      "text/plain": [
       "<function matplotlib.pyplot.show(close=None, block=None)>"
      ]
     },
     "execution_count": 48,
     "metadata": {},
     "output_type": "execute_result"
    },
    {
     "data": {
      "image/png": "[encoded data removed]",
      "text/plain": [
       "<Figure size 432x288 with 1 Axes>"
      ]
     },
     "metadata": {
      "needs_background": "light"
     },
     "output_type": "display_data"
    }
   ],
   "source": [
    "plt.title(\"RPPR Price (€)\")\n",
    "plt.xlabel('Price')\n",
    "plt.ylabel('Count')\n",
    "\n",
    "plt.hist(df1.Price_euro)\n",
    "plt.grid()\n",
    "plt.show"
   ]
  },
  {
   "cell_type": "code",
   "execution_count": 49,
   "id": "17427e13",
   "metadata": {},
   "outputs": [
    {
     "data": {
      "text/plain": [
       "<AxesSubplot:>"
      ]
     },
     "execution_count": 49,
     "metadata": {},
     "output_type": "execute_result"
    },
    {
     "data": {
      "image/png": "[encoded data removed]",
      "text/plain": [
       "<Figure size 432x288 with 1 Axes>"
      ]
     },
     "metadata": {
      "needs_background": "light"
     },
     "output_type": "display_data"
    }
   ],
   "source": [
    "df1.Price_euro.plot(kind='box')"
   ]
  },
  {
   "cell_type": "code",
   "execution_count": 65,
   "id": "fb319b92",
   "metadata": {},
   "outputs": [
    {
     "data": {
      "text/plain": [
       "<function matplotlib.pyplot.show(close=None, block=None)>"
      ]
     },
     "execution_count": 65,
     "metadata": {},
     "output_type": "execute_result"
    },
    {
     "data": {
      "image/png": "[encoded data removed]",
      "text/plain": [
       "<Figure size 432x288 with 1 Axes>"
      ]
     },
     "metadata": {},
     "output_type": "display_data"
    }
   ],
   "source": [
    "plt.figure(facecolor = 'white')\n",
    "plt.title(\"RPPR Price (€)\")\n",
    "#plt.xlabel('Price')\n",
    "#plt.ylabel('Count')\n",
    "\n",
    "plt.boxplot(df1.Price_euro)\n",
    "plt.grid()\n",
    "plt.savefig('media/rppr_price_boxplot.png')\n",
    "plt.show"
   ]
  },
  {
   "cell_type": "markdown",
   "id": "42004803",
   "metadata": {},
   "source": [
    "The outliers are skewing our graphs and will be looked into for the data quality plan."
   ]
  },
  {
   "cell_type": "markdown",
   "id": "d2bb0768",
   "metadata": {},
   "source": [
    "<b>Bar Plots for Categorical Features:</b>"
   ]
  },
  {
   "cell_type": "code",
   "execution_count": 50,
   "id": "d387da25",
   "metadata": {},
   "outputs": [
    {
     "data": {
      "text/plain": [
       "<AxesSubplot:>"
      ]
     },
     "execution_count": 50,
     "metadata": {},
     "output_type": "execute_result"
    },
    {
     "data": {
      "image/png": "[encoded data removed]",
      "text/plain": [
       "<Figure size 432x288 with 1 Axes>"
      ]
     },
     "metadata": {
      "needs_background": "light"
     },
     "output_type": "display_data"
    }
   ],
   "source": [
    "df1['Postal_Code'].value_counts().plot(kind='bar')"
   ]
  },
  {
   "cell_type": "markdown",
   "id": "d90bcb3e",
   "metadata": {},
   "source": [
    "Dublin 5 has some that are written in Irish and need to be translated and combined."
   ]
  },
  {
   "cell_type": "code",
   "execution_count": 51,
   "id": "77ab3f0b",
   "metadata": {},
   "outputs": [
    {
     "data": {
      "text/plain": [
       "<AxesSubplot:>"
      ]
     },
     "execution_count": 51,
     "metadata": {},
     "output_type": "execute_result"
    },
    {
     "data": {
      "image/png": "[encoded data removed]",
      "text/plain": [
       "<Figure size 432x288 with 1 Axes>"
      ]
     },
     "metadata": {
      "needs_background": "light"
     },
     "output_type": "display_data"
    }
   ],
   "source": [
    "df1['County'].value_counts().plot(kind='bar')"
   ]
  },
  {
   "cell_type": "code",
   "execution_count": 52,
   "id": "f908645f",
   "metadata": {},
   "outputs": [
    {
     "data": {
      "text/plain": [
       "<AxesSubplot:>"
      ]
     },
     "execution_count": 52,
     "metadata": {},
     "output_type": "execute_result"
    },
    {
     "data": {
      "image/png": "[encoded data removed]",
      "text/plain": [
       "<Figure size 432x288 with 1 Axes>"
      ]
     },
     "metadata": {
      "needs_background": "light"
     },
     "output_type": "display_data"
    }
   ],
   "source": [
    "df1['Not_Full_Market_Price'].value_counts().plot(kind='bar')"
   ]
  },
  {
   "cell_type": "code",
   "execution_count": 53,
   "id": "1810ba48",
   "metadata": {},
   "outputs": [
    {
     "data": {
      "text/plain": [
       "<AxesSubplot:>"
      ]
     },
     "execution_count": 53,
     "metadata": {},
     "output_type": "execute_result"
    },
    {
     "data": {
      "image/png": "[encoded data removed]",
      "text/plain": [
       "<Figure size 432x288 with 1 Axes>"
      ]
     },
     "metadata": {
      "needs_background": "light"
     },
     "output_type": "display_data"
    }
   ],
   "source": [
    "df1['VAT_Exclusive'].value_counts().plot(kind='bar')"
   ]
  },
  {
   "cell_type": "code",
   "execution_count": 54,
   "id": "026bb73d",
   "metadata": {},
   "outputs": [
    {
     "data": {
      "text/plain": [
       "<AxesSubplot:>"
      ]
     },
     "execution_count": 54,
     "metadata": {},
     "output_type": "execute_result"
    },
    {
     "data": {
      "image/png": "[encoded data removed]",
      "text/plain": [
       "<Figure size 432x288 with 1 Axes>"
      ]
     },
     "metadata": {
      "needs_background": "light"
     },
     "output_type": "display_data"
    }
   ],
   "source": [
    "df1['Description_of_Property'].value_counts().plot(kind='bar')"
   ]
  },
  {
   "cell_type": "markdown",
   "id": "d2d5f805",
   "metadata": {},
   "source": [
    "Second-Hand has some that are written in Irish and need to be translated and combined."
   ]
  },
  {
   "cell_type": "code",
   "execution_count": 55,
   "id": "52de88ea",
   "metadata": {},
   "outputs": [
    {
     "data": {
      "text/plain": [
       "<AxesSubplot:>"
      ]
     },
     "execution_count": 55,
     "metadata": {},
     "output_type": "execute_result"
    },
    {
     "data": {
      "image/png": "[encoded data removed]",
      "text/plain": [
       "<Figure size 432x288 with 1 Axes>"
      ]
     },
     "metadata": {
      "needs_background": "light"
     },
     "output_type": "display_data"
    }
   ],
   "source": [
    "df1['Property_Size_Description'].value_counts().plot(kind='bar')"
   ]
  },
  {
   "cell_type": "markdown",
   "id": "3404beef",
   "metadata": {},
   "source": [
    "The two greater than 125 buckets need to be combined."
   ]
  },
  {
   "cell_type": "code",
   "execution_count": 56,
   "id": "4926360b",
   "metadata": {},
   "outputs": [
    {
     "data": {
      "text/plain": [
       "<AxesSubplot:>"
      ]
     },
     "execution_count": 56,
     "metadata": {},
     "output_type": "execute_result"
    },
    {
     "data": {
      "image/png": "[encoded data removed]",
      "text/plain": [
       "<Figure size 432x288 with 1 Axes>"
      ]
     },
     "metadata": {
      "needs_background": "light"
     },
     "output_type": "display_data"
    }
   ],
   "source": [
    "df1['Day'].value_counts().plot(kind='bar')"
   ]
  },
  {
   "cell_type": "code",
   "execution_count": 57,
   "id": "265ad97a",
   "metadata": {},
   "outputs": [
    {
     "data": {
      "text/plain": [
       "<AxesSubplot:>"
      ]
     },
     "execution_count": 57,
     "metadata": {},
     "output_type": "execute_result"
    },
    {
     "data": {
      "image/png": "[encoded data removed]",
      "text/plain": [
       "<Figure size 432x288 with 1 Axes>"
      ]
     },
     "metadata": {
      "needs_background": "light"
     },
     "output_type": "display_data"
    }
   ],
   "source": [
    "df1['Month'].value_counts().plot(kind='bar')"
   ]
  },
  {
   "cell_type": "code",
   "execution_count": 58,
   "id": "7e163408",
   "metadata": {},
   "outputs": [
    {
     "data": {
      "text/plain": [
       "<AxesSubplot:>"
      ]
     },
     "execution_count": 58,
     "metadata": {},
     "output_type": "execute_result"
    },
    {
     "data": {
      "image/png": "[encoded data removed]",
      "text/plain": [
       "<Figure size 432x288 with 1 Axes>"
      ]
     },
     "metadata": {
      "needs_background": "light"
     },
     "output_type": "display_data"
    }
   ],
   "source": [
    "df1['Year'].value_counts().plot(kind='bar')"
   ]
  },
  {
   "cell_type": "markdown",
   "id": "7d5e6978",
   "metadata": {},
   "source": [
    "## Data Cleaning"
   ]
  },
  {
   "cell_type": "markdown",
   "id": "f5d560e3",
   "metadata": {},
   "source": [
    "### Summary of Data Cleaning Plan:\n",
    "\n",
    "| Features                           | Data Quality Issue            | Handling Strategy              |\n",
    "|------------------------------------|-------------------------------|--------------------------------|\n",
    "| Postal_Code                        | Missing Values                | Do Nothing                     |\n",
    "| Postal_Code                        | Mis-labeled                   | Translate & Update             |\n",
    "| Postal_Code                        | Null Values                   | Do Nothing                     |\n",
    "| Price_euro                         | Upper Bound Outliers          | Remove 11 Highest(Multi-Unit)  |\n",
    "| Price_euro                         | Lower Bound Outliers          | Do Nothing                     |\n",
    "| Description_of_Property            | Mis-labeled                   | Translate & Update             |\n",
    "| Property_Size_Description          | Mis-labeled                   | Update & Combine               |\n",
    "| Property_Size_Description          | Null Values                   | Do Nothing                     |"
   ]
  },
  {
   "cell_type": "markdown",
   "id": "85c17bdd",
   "metadata": {},
   "source": [
    "### Data Cleaning continued in 'data_cleaning.ipynb'"
   ]
  },
  {
   "cell_type": "code",
   "execution_count": null,
   "id": "c7507602",
   "metadata": {},
   "outputs": [],
   "source": []
  }
 ],
 "metadata": {
  "kernelspec": {
   "display_name": "Python 3 (ipykernel)",
   "language": "python",
   "name": "python3"
  },
  "language_info": {
   "codemirror_mode": {
    "name": "ipython",
    "version": 3
   },
   "file_extension": ".py",
   "mimetype": "text/x-python",
   "name": "python",
   "nbconvert_exporter": "python",
   "pygments_lexer": "ipython3",
   "version": "3.9.7"
  }
 },
 "nbformat": 4,
 "nbformat_minor": 5
}
